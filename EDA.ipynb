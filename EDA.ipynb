{
 "cells": [
  {
   "cell_type": "code",
   "execution_count": 1,
   "metadata": {
    "collapsed": true
   },
   "outputs": [],
   "source": [
    "import pandas as pd\n",
    "import numpy as np\n",
    "import matplotlib.pyplot as plt\n",
    "\n",
    "%matplotlib inline\n",
    "\n",
    "from utils.clean_utils import clean_dataframe"
   ]
  },
  {
   "cell_type": "markdown",
   "metadata": {},
   "source": [
    "# 1. Read Data"
   ]
  },
  {
   "cell_type": "code",
   "execution_count": 2,
   "metadata": {
    "collapsed": false
   },
   "outputs": [
    {
     "name": "stderr",
     "output_type": "stream",
     "text": [
      "/Users/seramirchandani/anaconda2/lib/python2.7/site-packages/IPython/core/interactiveshell.py:2717: DtypeWarning: Columns (8,24,29,30,32) have mixed types. Specify dtype option on import or set low_memory=False.\n",
      "  interactivity=interactivity, compiler=compiler, result=result)\n"
     ]
    }
   ],
   "source": [
    "df_raw = pd.read_csv('data/feats_out.csv')"
   ]
  },
  {
   "cell_type": "markdown",
   "metadata": {},
   "source": [
    "# 2. Reduce Data"
   ]
  },
  {
   "cell_type": "code",
   "execution_count": 3,
   "metadata": {
    "collapsed": false
   },
   "outputs": [],
   "source": [
    "df = clean_dataframe(df_raw)"
   ]
  },
  {
   "cell_type": "markdown",
   "metadata": {},
   "source": [
    "# 3. EDA and Cleaning"
   ]
  },
  {
   "cell_type": "code",
   "execution_count": 4,
   "metadata": {
    "collapsed": true
   },
   "outputs": [],
   "source": [
    "columns = df.columns"
   ]
  },
  {
   "cell_type": "code",
   "execution_count": 5,
   "metadata": {
    "collapsed": false,
    "scrolled": true
   },
   "outputs": [
    {
     "data": {
      "text/html": [
       "<div>\n",
       "<style>\n",
       "    .dataframe thead tr:only-child th {\n",
       "        text-align: right;\n",
       "    }\n",
       "\n",
       "    .dataframe thead th {\n",
       "        text-align: left;\n",
       "    }\n",
       "\n",
       "    .dataframe tbody tr th {\n",
       "        vertical-align: top;\n",
       "    }\n",
       "</style>\n",
       "<table border=\"1\" class=\"dataframe\">\n",
       "  <thead>\n",
       "    <tr style=\"text-align: right;\">\n",
       "      <th></th>\n",
       "      <th>feat_nuc_region_mean_px</th>\n",
       "      <th>feat_nuc_region_median_px</th>\n",
       "      <th>feat_nuc_region_mode_px</th>\n",
       "      <th>feat_nuc_region_min_px</th>\n",
       "      <th>feat_nuc_region_max_px</th>\n",
       "      <th>feat_nuc_region_std_px</th>\n",
       "      <th>feat_nuc_region_entropy_px</th>\n",
       "      <th>feat_nuc_region_histogram_px_1</th>\n",
       "      <th>feat_nuc_region_histogram_px_2</th>\n",
       "      <th>feat_nuc_region_histogram_px_3</th>\n",
       "      <th>...</th>\n",
       "      <th>feat_nuc_obj_mean_degree</th>\n",
       "      <th>feat_nuc_obj_std_degree</th>\n",
       "      <th>feat_nuc_obj_tot_sphericity</th>\n",
       "      <th>feat_nuc_obj_max_spherical_obj</th>\n",
       "      <th>feat_nuc_obj_mean_spherical_obj</th>\n",
       "      <th>feat_nuc_obj_std_spherical_obj</th>\n",
       "      <th>feat_nuc_obj_eigval_1</th>\n",
       "      <th>feat_nuc_obj_eigval_2</th>\n",
       "      <th>feat_nuc_obj_eigval_3</th>\n",
       "      <th>feat_nuc_obj_tot_height</th>\n",
       "    </tr>\n",
       "  </thead>\n",
       "  <tbody>\n",
       "    <tr>\n",
       "      <th>count</th>\n",
       "      <td>21793.000000</td>\n",
       "      <td>21793.000000</td>\n",
       "      <td>2.179300e+04</td>\n",
       "      <td>2.179300e+04</td>\n",
       "      <td>21793.000000</td>\n",
       "      <td>21793.000000</td>\n",
       "      <td>21793.000000</td>\n",
       "      <td>21793.000000</td>\n",
       "      <td>21793.000000</td>\n",
       "      <td>21793.000000</td>\n",
       "      <td>...</td>\n",
       "      <td>21793.000000</td>\n",
       "      <td>21793.000000</td>\n",
       "      <td>21793.000000</td>\n",
       "      <td>21793.000000</td>\n",
       "      <td>21793.000000</td>\n",
       "      <td>21793.000000</td>\n",
       "      <td>21793.000000</td>\n",
       "      <td>21793.000000</td>\n",
       "      <td>21793.000000</td>\n",
       "      <td>21793.000000</td>\n",
       "    </tr>\n",
       "    <tr>\n",
       "      <th>mean</th>\n",
       "      <td>0.114559</td>\n",
       "      <td>0.113711</td>\n",
       "      <td>5.652002e-04</td>\n",
       "      <td>5.123847e-06</td>\n",
       "      <td>0.421158</td>\n",
       "      <td>0.056545</td>\n",
       "      <td>5.470393</td>\n",
       "      <td>0.057194</td>\n",
       "      <td>0.047472</td>\n",
       "      <td>0.059896</td>\n",
       "      <td>...</td>\n",
       "      <td>1.640335</td>\n",
       "      <td>1.171424</td>\n",
       "      <td>1.028466</td>\n",
       "      <td>1.029741</td>\n",
       "      <td>1.029284</td>\n",
       "      <td>0.000647</td>\n",
       "      <td>130.099235</td>\n",
       "      <td>79.801557</td>\n",
       "      <td>40.329581</td>\n",
       "      <td>29.559216</td>\n",
       "    </tr>\n",
       "    <tr>\n",
       "      <th>std</th>\n",
       "      <td>0.077957</td>\n",
       "      <td>0.078648</td>\n",
       "      <td>1.159041e-02</td>\n",
       "      <td>1.587999e-05</td>\n",
       "      <td>0.243949</td>\n",
       "      <td>0.039729</td>\n",
       "      <td>1.058298</td>\n",
       "      <td>0.034038</td>\n",
       "      <td>0.038060</td>\n",
       "      <td>0.047077</td>\n",
       "      <td>...</td>\n",
       "      <td>0.456751</td>\n",
       "      <td>0.364400</td>\n",
       "      <td>0.078677</td>\n",
       "      <td>0.086924</td>\n",
       "      <td>0.080262</td>\n",
       "      <td>0.027291</td>\n",
       "      <td>47.524622</td>\n",
       "      <td>21.925553</td>\n",
       "      <td>14.004247</td>\n",
       "      <td>6.194918</td>\n",
       "    </tr>\n",
       "    <tr>\n",
       "      <th>min</th>\n",
       "      <td>0.001428</td>\n",
       "      <td>0.001198</td>\n",
       "      <td>1.541100e-31</td>\n",
       "      <td>1.541100e-31</td>\n",
       "      <td>0.008167</td>\n",
       "      <td>0.001115</td>\n",
       "      <td>0.861620</td>\n",
       "      <td>0.022906</td>\n",
       "      <td>0.000288</td>\n",
       "      <td>0.001520</td>\n",
       "      <td>...</td>\n",
       "      <td>0.000000</td>\n",
       "      <td>0.000000</td>\n",
       "      <td>0.527260</td>\n",
       "      <td>0.527260</td>\n",
       "      <td>0.527260</td>\n",
       "      <td>0.000000</td>\n",
       "      <td>35.053000</td>\n",
       "      <td>23.830600</td>\n",
       "      <td>6.775600</td>\n",
       "      <td>11.000000</td>\n",
       "    </tr>\n",
       "    <tr>\n",
       "      <th>25%</th>\n",
       "      <td>0.058383</td>\n",
       "      <td>0.057151</td>\n",
       "      <td>7.643200e-15</td>\n",
       "      <td>6.911100e-15</td>\n",
       "      <td>0.231770</td>\n",
       "      <td>0.029593</td>\n",
       "      <td>4.890000</td>\n",
       "      <td>0.040358</td>\n",
       "      <td>0.027807</td>\n",
       "      <td>0.030316</td>\n",
       "      <td>...</td>\n",
       "      <td>1.600000</td>\n",
       "      <td>1.064600</td>\n",
       "      <td>0.985930</td>\n",
       "      <td>0.986240</td>\n",
       "      <td>0.986200</td>\n",
       "      <td>0.000000</td>\n",
       "      <td>98.974800</td>\n",
       "      <td>64.152900</td>\n",
       "      <td>30.557000</td>\n",
       "      <td>25.000000</td>\n",
       "    </tr>\n",
       "    <tr>\n",
       "      <th>50%</th>\n",
       "      <td>0.099325</td>\n",
       "      <td>0.097950</td>\n",
       "      <td>3.408200e-07</td>\n",
       "      <td>2.499200e-07</td>\n",
       "      <td>0.383360</td>\n",
       "      <td>0.048960</td>\n",
       "      <td>5.615000</td>\n",
       "      <td>0.048049</td>\n",
       "      <td>0.035006</td>\n",
       "      <td>0.043649</td>\n",
       "      <td>...</td>\n",
       "      <td>1.733300</td>\n",
       "      <td>1.183200</td>\n",
       "      <td>1.040600</td>\n",
       "      <td>1.040700</td>\n",
       "      <td>1.040600</td>\n",
       "      <td>0.000000</td>\n",
       "      <td>123.129000</td>\n",
       "      <td>77.671600</td>\n",
       "      <td>40.196300</td>\n",
       "      <td>29.000000</td>\n",
       "    </tr>\n",
       "    <tr>\n",
       "      <th>75%</th>\n",
       "      <td>0.150350</td>\n",
       "      <td>0.149430</td>\n",
       "      <td>4.373600e-06</td>\n",
       "      <td>3.709900e-06</td>\n",
       "      <td>0.571680</td>\n",
       "      <td>0.072882</td>\n",
       "      <td>6.186500</td>\n",
       "      <td>0.062526</td>\n",
       "      <td>0.051570</td>\n",
       "      <td>0.071955</td>\n",
       "      <td>...</td>\n",
       "      <td>1.833300</td>\n",
       "      <td>1.316600</td>\n",
       "      <td>1.084300</td>\n",
       "      <td>1.084400</td>\n",
       "      <td>1.084300</td>\n",
       "      <td>0.000000</td>\n",
       "      <td>153.173100</td>\n",
       "      <td>93.494700</td>\n",
       "      <td>49.576700</td>\n",
       "      <td>34.000000</td>\n",
       "    </tr>\n",
       "    <tr>\n",
       "      <th>max</th>\n",
       "      <td>0.492860</td>\n",
       "      <td>0.522560</td>\n",
       "      <td>1.000000e+00</td>\n",
       "      <td>3.763200e-04</td>\n",
       "      <td>1.000000</td>\n",
       "      <td>0.284240</td>\n",
       "      <td>7.890400</td>\n",
       "      <td>0.919600</td>\n",
       "      <td>0.540500</td>\n",
       "      <td>0.404100</td>\n",
       "      <td>...</td>\n",
       "      <td>4.666700</td>\n",
       "      <td>4.976000</td>\n",
       "      <td>1.215600</td>\n",
       "      <td>3.353100</td>\n",
       "      <td>2.210300</td>\n",
       "      <td>1.676500</td>\n",
       "      <td>1107.645000</td>\n",
       "      <td>214.319500</td>\n",
       "      <td>100.209800</td>\n",
       "      <td>59.000000</td>\n",
       "    </tr>\n",
       "  </tbody>\n",
       "</table>\n",
       "<p>8 rows × 1663 columns</p>\n",
       "</div>"
      ],
      "text/plain": [
       "       feat_nuc_region_mean_px  feat_nuc_region_median_px  \\\n",
       "count             21793.000000               21793.000000   \n",
       "mean                  0.114559                   0.113711   \n",
       "std                   0.077957                   0.078648   \n",
       "min                   0.001428                   0.001198   \n",
       "25%                   0.058383                   0.057151   \n",
       "50%                   0.099325                   0.097950   \n",
       "75%                   0.150350                   0.149430   \n",
       "max                   0.492860                   0.522560   \n",
       "\n",
       "       feat_nuc_region_mode_px  feat_nuc_region_min_px  \\\n",
       "count             2.179300e+04            2.179300e+04   \n",
       "mean              5.652002e-04            5.123847e-06   \n",
       "std               1.159041e-02            1.587999e-05   \n",
       "min               1.541100e-31            1.541100e-31   \n",
       "25%               7.643200e-15            6.911100e-15   \n",
       "50%               3.408200e-07            2.499200e-07   \n",
       "75%               4.373600e-06            3.709900e-06   \n",
       "max               1.000000e+00            3.763200e-04   \n",
       "\n",
       "       feat_nuc_region_max_px  feat_nuc_region_std_px  \\\n",
       "count            21793.000000            21793.000000   \n",
       "mean                 0.421158                0.056545   \n",
       "std                  0.243949                0.039729   \n",
       "min                  0.008167                0.001115   \n",
       "25%                  0.231770                0.029593   \n",
       "50%                  0.383360                0.048960   \n",
       "75%                  0.571680                0.072882   \n",
       "max                  1.000000                0.284240   \n",
       "\n",
       "       feat_nuc_region_entropy_px  feat_nuc_region_histogram_px_1  \\\n",
       "count                21793.000000                    21793.000000   \n",
       "mean                     5.470393                        0.057194   \n",
       "std                      1.058298                        0.034038   \n",
       "min                      0.861620                        0.022906   \n",
       "25%                      4.890000                        0.040358   \n",
       "50%                      5.615000                        0.048049   \n",
       "75%                      6.186500                        0.062526   \n",
       "max                      7.890400                        0.919600   \n",
       "\n",
       "       feat_nuc_region_histogram_px_2  feat_nuc_region_histogram_px_3  \\\n",
       "count                    21793.000000                    21793.000000   \n",
       "mean                         0.047472                        0.059896   \n",
       "std                          0.038060                        0.047077   \n",
       "min                          0.000288                        0.001520   \n",
       "25%                          0.027807                        0.030316   \n",
       "50%                          0.035006                        0.043649   \n",
       "75%                          0.051570                        0.071955   \n",
       "max                          0.540500                        0.404100   \n",
       "\n",
       "                ...             feat_nuc_obj_mean_degree  \\\n",
       "count           ...                         21793.000000   \n",
       "mean            ...                             1.640335   \n",
       "std             ...                             0.456751   \n",
       "min             ...                             0.000000   \n",
       "25%             ...                             1.600000   \n",
       "50%             ...                             1.733300   \n",
       "75%             ...                             1.833300   \n",
       "max             ...                             4.666700   \n",
       "\n",
       "       feat_nuc_obj_std_degree  feat_nuc_obj_tot_sphericity  \\\n",
       "count             21793.000000                 21793.000000   \n",
       "mean                  1.171424                     1.028466   \n",
       "std                   0.364400                     0.078677   \n",
       "min                   0.000000                     0.527260   \n",
       "25%                   1.064600                     0.985930   \n",
       "50%                   1.183200                     1.040600   \n",
       "75%                   1.316600                     1.084300   \n",
       "max                   4.976000                     1.215600   \n",
       "\n",
       "       feat_nuc_obj_max_spherical_obj  feat_nuc_obj_mean_spherical_obj  \\\n",
       "count                    21793.000000                     21793.000000   \n",
       "mean                         1.029741                         1.029284   \n",
       "std                          0.086924                         0.080262   \n",
       "min                          0.527260                         0.527260   \n",
       "25%                          0.986240                         0.986200   \n",
       "50%                          1.040700                         1.040600   \n",
       "75%                          1.084400                         1.084300   \n",
       "max                          3.353100                         2.210300   \n",
       "\n",
       "       feat_nuc_obj_std_spherical_obj  feat_nuc_obj_eigval_1  \\\n",
       "count                    21793.000000           21793.000000   \n",
       "mean                         0.000647             130.099235   \n",
       "std                          0.027291              47.524622   \n",
       "min                          0.000000              35.053000   \n",
       "25%                          0.000000              98.974800   \n",
       "50%                          0.000000             123.129000   \n",
       "75%                          0.000000             153.173100   \n",
       "max                          1.676500            1107.645000   \n",
       "\n",
       "       feat_nuc_obj_eigval_2  feat_nuc_obj_eigval_3  feat_nuc_obj_tot_height  \n",
       "count           21793.000000           21793.000000             21793.000000  \n",
       "mean               79.801557              40.329581                29.559216  \n",
       "std                21.925553              14.004247                 6.194918  \n",
       "min                23.830600               6.775600                11.000000  \n",
       "25%                64.152900              30.557000                25.000000  \n",
       "50%                77.671600              40.196300                29.000000  \n",
       "75%                93.494700              49.576700                34.000000  \n",
       "max               214.319500             100.209800                59.000000  \n",
       "\n",
       "[8 rows x 1663 columns]"
      ]
     },
     "execution_count": 5,
     "metadata": {},
     "output_type": "execute_result"
    }
   ],
   "source": [
    "df.describe()"
   ]
  },
  {
   "cell_type": "code",
   "execution_count": 6,
   "metadata": {
    "collapsed": false,
    "scrolled": true
   },
   "outputs": [
    {
     "data": {
      "text/plain": [
       "(21968, 1666)"
      ]
     },
     "execution_count": 6,
     "metadata": {},
     "output_type": "execute_result"
    }
   ],
   "source": [
    "df.shape"
   ]
  },
  {
   "cell_type": "code",
   "execution_count": 7,
   "metadata": {
    "collapsed": false
   },
   "outputs": [
    {
     "name": "stdout",
     "output_type": "stream",
     "text": [
      "<class 'pandas.core.frame.DataFrame'>\n",
      "RangeIndex: 21968 entries, 0 to 21967\n",
      "Columns: 1666 entries, structureProteinName to feat_nuc_obj_tot_height\n",
      "dtypes: float64(1663), object(3)\n",
      "memory usage: 279.2+ MB\n"
     ]
    }
   ],
   "source": [
    "df.info()"
   ]
  },
  {
   "cell_type": "markdown",
   "metadata": {},
   "source": [
    "### Remove or Replace NaNs"
   ]
  },
  {
   "cell_type": "markdown",
   "metadata": {},
   "source": [
    "Looks like most of the columns have a count of 21793 values, however the dataframe has 21968 rows. How many columns have more or less than 21968-21793 (175) NaNs?"
   ]
  },
  {
   "cell_type": "code",
   "execution_count": 8,
   "metadata": {
    "collapsed": false
   },
   "outputs": [
    {
     "name": "stdout",
     "output_type": "stream",
     "text": [
      "less than 175 structureProteinName 0\n",
      "less than 175 cellID 138\n",
      "less than 175 save_feats_path 0\n",
      "more than 175 feat_nuc_obj_mean_edge_len 228\n",
      "more than 175 feat_nuc_obj_std_edge_len 228\n"
     ]
    }
   ],
   "source": [
    "for name in columns:\n",
    "    if df[name].isnull().sum() > 175:\n",
    "        print 'more than 175', name, df[name].isnull().sum()\n",
    "    if df[name].isnull().sum() < 175:\n",
    "        print 'less than 175', name, df[name].isnull().sum()"
   ]
  },
  {
   "cell_type": "markdown",
   "metadata": {},
   "source": [
    "Remove all the rows which have NaNs for all columns, using the first column of data (feat_nuc_region_mean_px) as an indicator for the location of NaNs."
   ]
  },
  {
   "cell_type": "code",
   "execution_count": 9,
   "metadata": {
    "collapsed": true
   },
   "outputs": [],
   "source": [
    "df = df[np.isfinite(df['feat_nuc_region_mean_px'])]"
   ]
  },
  {
   "cell_type": "code",
   "execution_count": 10,
   "metadata": {
    "collapsed": false
   },
   "outputs": [
    {
     "name": "stdout",
     "output_type": "stream",
     "text": [
      "cellID 3\n",
      "feat_nuc_obj_mean_edge_len 53\n",
      "feat_nuc_obj_std_edge_len 53\n"
     ]
    }
   ],
   "source": [
    "for name in columns:\n",
    "    if df[name].isnull().sum() > 0:\n",
    "        print name, df[name].isnull().sum()"
   ]
  },
  {
   "cell_type": "markdown",
   "metadata": {},
   "source": [
    "There are still 53 NaNs to deal with - replace NaNs based on distributions:"
   ]
  },
  {
   "cell_type": "code",
   "execution_count": 11,
   "metadata": {
    "collapsed": false
   },
   "outputs": [
    {
     "data": {
      "text/plain": [
       "array([[<matplotlib.axes._subplots.AxesSubplot object at 0x11d3c57d0>]], dtype=object)"
      ]
     },
     "execution_count": 11,
     "metadata": {},
     "output_type": "execute_result"
    },
    {
     "data": {
      "image/png": "[encoded data removed]",
      "text/plain": [
       "<matplotlib.figure.Figure at 0x11b86ccd0>"
      ]
     },
     "metadata": {},
     "output_type": "display_data"
    }
   ],
   "source": [
    "df.hist(column='feat_nuc_obj_mean_edge_len')"
   ]
  },
  {
   "cell_type": "code",
   "execution_count": 12,
   "metadata": {
    "collapsed": false
   },
   "outputs": [
    {
     "data": {
      "text/plain": [
       "array([[<matplotlib.axes._subplots.AxesSubplot object at 0x11c572b10>]], dtype=object)"
      ]
     },
     "execution_count": 12,
     "metadata": {},
     "output_type": "execute_result"
    },
    {
     "data": {
      "image/png": "[encoded data removed]",
      "text/plain": [
       "<matplotlib.figure.Figure at 0x11a846410>"
      ]
     },
     "metadata": {},
     "output_type": "display_data"
    }
   ],
   "source": [
    "df.hist(column='feat_nuc_obj_std_edge_len')"
   ]
  },
  {
   "cell_type": "code",
   "execution_count": 13,
   "metadata": {
    "collapsed": true
   },
   "outputs": [],
   "source": [
    "df['feat_nuc_obj_mean_edge_len'].fillna((df['feat_nuc_obj_mean_edge_len'].mean()), inplace=True)\n",
    "df['feat_nuc_obj_std_edge_len'].fillna((df['feat_nuc_obj_std_edge_len'].mean()), inplace=True)"
   ]
  },
  {
   "cell_type": "code",
   "execution_count": 14,
   "metadata": {
    "collapsed": false
   },
   "outputs": [
    {
     "name": "stdout",
     "output_type": "stream",
     "text": [
      "cellID 3\n"
     ]
    }
   ],
   "source": [
    "for name in columns:\n",
    "    if df[name].isnull().sum() > 0:\n",
    "        print name, df[name].isnull().sum()"
   ]
  },
  {
   "cell_type": "code",
   "execution_count": null,
   "metadata": {
    "collapsed": true
   },
   "outputs": [],
   "source": []
  }
 ],
 "metadata": {
  "kernelspec": {
   "display_name": "Python 2",
   "language": "python",
   "name": "python2"
  },
  "language_info": {
   "codemirror_mode": {
    "name": "ipython",
    "version": 2
   },
   "file_extension": ".py",
   "mimetype": "text/x-python",
   "name": "python",
   "nbconvert_exporter": "python",
   "pygments_lexer": "ipython2",
   "version": "2.7.13"
  }
 },
 "nbformat": 4,
 "nbformat_minor": 2
}
