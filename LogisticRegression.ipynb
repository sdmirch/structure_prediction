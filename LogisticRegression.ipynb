{
 "cells": [
  {
   "cell_type": "code",
   "execution_count": 1,
   "metadata": {
    "collapsed": false
   },
   "outputs": [],
   "source": [
    "import pandas as pd\n",
    "import numpy as np\n",
    "import matplotlib.pyplot as plt\n",
    "from collections import Counter\n",
    "\n",
    "from sklearn.externals import joblib\n",
    "from sklearn.preprocessing import StandardScaler, MinMaxScaler\n",
    "from sklearn.linear_model import LogisticRegression\n",
    "from sklearn.model_selection import train_test_split\n",
    "from sklearn.metrics import roc_curve, classification_report\n",
    "\n",
    "\n",
    "%matplotlib inline\n",
    "plt.style.use('ggplot')\n",
    "\n",
    "from utils.clean_utils import reduce_dataframe, clean_dataframe\n",
    "from utils.model import model_RandomClass"
   ]
  },
  {
   "cell_type": "code",
   "execution_count": 2,
   "metadata": {
    "collapsed": false
   },
   "outputs": [],
   "source": [
    "df_clean = pd.read_csv('data/feats_cleaned.csv')\n",
    "df_reduce = pd.read_csv('data/feats_reduced_byRF.csv')"
   ]
  },
  {
   "cell_type": "markdown",
   "metadata": {},
   "source": [
    "# Logistic Regression using the Reduced DF"
   ]
  },
  {
   "cell_type": "code",
   "execution_count": 3,
   "metadata": {
    "collapsed": false
   },
   "outputs": [],
   "source": [
    "columns_R = df_reduce.columns\n",
    "feat_cols_R = []\n",
    "for name in columns_R:\n",
    "    if name != \"structureProteinName\" and name != \"cellID\" and name != \"save_feats_path\":\n",
    "        feat_cols_R.append(name)"
   ]
  },
  {
   "cell_type": "code",
   "execution_count": 4,
   "metadata": {
    "collapsed": true
   },
   "outputs": [],
   "source": [
    "# Split to features and labels\n",
    "X_R = df_reduce[feat_cols_R]\n",
    "y_R = df_reduce.structureProteinName"
   ]
  },
  {
   "cell_type": "code",
   "execution_count": 5,
   "metadata": {
    "collapsed": true
   },
   "outputs": [],
   "source": [
    "X_train_R, X_test_R, y_train_R, y_test_R = train_test_split(X_R, y_R, random_state=10)"
   ]
  },
  {
   "cell_type": "code",
   "execution_count": 6,
   "metadata": {
    "collapsed": true
   },
   "outputs": [],
   "source": [
    "model_R = LogisticRegression(penalty='l1')"
   ]
  },
  {
   "cell_type": "code",
   "execution_count": 7,
   "metadata": {
    "collapsed": false
   },
   "outputs": [],
   "source": [
    "# model_R.fit(X_train_R, y_train_R)"
   ]
  },
  {
   "cell_type": "code",
   "execution_count": 8,
   "metadata": {
    "collapsed": false
   },
   "outputs": [],
   "source": [
    "#joblib.dump(model_R, 'models/logregL1_reduced.pkl') "
   ]
  },
  {
   "cell_type": "markdown",
   "metadata": {},
   "source": [
    "### Classification Report Comparisons"
   ]
  },
  {
   "cell_type": "code",
   "execution_count": 9,
   "metadata": {
    "collapsed": true
   },
   "outputs": [],
   "source": [
    "model_R = joblib.load('models/logregL1_reduced.pkl')"
   ]
  },
  {
   "cell_type": "code",
   "execution_count": 10,
   "metadata": {
    "collapsed": true
   },
   "outputs": [],
   "source": [
    "# Read in an L2 model from a different session with a test/train split with same random state\n",
    "model_R_l2 = joblib.load('models/logregL2_reduced.pkl')"
   ]
  },
  {
   "cell_type": "code",
   "execution_count": 11,
   "metadata": {
    "collapsed": false
   },
   "outputs": [
    {
     "data": {
      "text/plain": [
       "0.31987520645990092"
      ]
     },
     "execution_count": 11,
     "metadata": {},
     "output_type": "execute_result"
    }
   ],
   "source": [
    "model_R.score(X_test_R, y_test_R)"
   ]
  },
  {
   "cell_type": "code",
   "execution_count": 12,
   "metadata": {
    "collapsed": false
   },
   "outputs": [
    {
     "name": "stdout",
     "output_type": "stream",
     "text": [
      "               precision    recall  f1-score   support\n",
      "\n",
      "Alpha actinin       0.21      0.31      0.25       127\n",
      "Alpha tubulin       0.32      0.31      0.32       852\n",
      "   Beta actin       0.31      0.25      0.27       414\n",
      "  Desmoplakin       0.27      0.25      0.26       605\n",
      "  Fibrillarin       0.23      0.24      0.23       234\n",
      "     Lamin B1       0.38      0.48      0.42      1105\n",
      "   Myosin IIB       0.07      0.08      0.07        49\n",
      "      ST6GAL1       0.35      0.28      0.31       402\n",
      "   Sec61 beta       0.26      0.14      0.18       499\n",
      "        Tom20       0.34      0.36      0.35      1102\n",
      "          ZO1       0.21      0.22      0.21        60\n",
      "\n",
      "  avg / total       0.32      0.32      0.31      5449\n",
      "\n"
     ]
    }
   ],
   "source": [
    "# L1 LogReg\n",
    "print(classification_report(y_true=y_test_R, y_pred=model_R.predict(X_test_R)))"
   ]
  },
  {
   "cell_type": "code",
   "execution_count": 13,
   "metadata": {
    "collapsed": false
   },
   "outputs": [
    {
     "data": {
      "text/plain": [
       "0.30556065333088639"
      ]
     },
     "execution_count": 13,
     "metadata": {},
     "output_type": "execute_result"
    }
   ],
   "source": [
    "model_R_l2.score(X_test_R,y_test_R)"
   ]
  },
  {
   "cell_type": "code",
   "execution_count": 14,
   "metadata": {
    "collapsed": false
   },
   "outputs": [
    {
     "name": "stdout",
     "output_type": "stream",
     "text": [
      "               precision    recall  f1-score   support\n",
      "\n",
      "Alpha actinin       0.25      0.28      0.27       127\n",
      "Alpha tubulin       0.31      0.31      0.31       852\n",
      "   Beta actin       0.29      0.22      0.25       414\n",
      "  Desmoplakin       0.24      0.20      0.22       605\n",
      "  Fibrillarin       0.21      0.21      0.21       234\n",
      "     Lamin B1       0.35      0.48      0.41      1105\n",
      "   Myosin IIB       0.12      0.12      0.12        49\n",
      "      ST6GAL1       0.33      0.22      0.27       402\n",
      "   Sec61 beta       0.24      0.12      0.16       499\n",
      "        Tom20       0.32      0.36      0.34      1102\n",
      "          ZO1       0.25      0.30      0.27        60\n",
      "\n",
      "  avg / total       0.30      0.31      0.30      5449\n",
      "\n"
     ]
    }
   ],
   "source": [
    "# L2 LogReg\n",
    "print(classification_report(y_true=y_test_R, y_pred=model_R_l2.predict(X_test_R)))"
   ]
  },
  {
   "cell_type": "code",
   "execution_count": 39,
   "metadata": {
    "collapsed": false
   },
   "outputs": [
    {
     "name": "stdout",
     "output_type": "stream",
     "text": [
      "               precision    recall  f1-score   support\n",
      "\n",
      "Alpha actinin       0.01      0.02      0.01       127\n",
      "Alpha tubulin       0.18      0.18      0.18       852\n",
      "   Beta actin       0.08      0.07      0.08       414\n",
      "  Desmoplakin       0.11      0.11      0.11       605\n",
      "  Fibrillarin       0.03      0.03      0.03       234\n",
      "     Lamin B1       0.21      0.22      0.22      1105\n",
      "   Myosin IIB       0.00      0.00      0.00        49\n",
      "      ST6GAL1       0.09      0.08      0.09       402\n",
      "   Sec61 beta       0.09      0.10      0.10       499\n",
      "        Tom20       0.21      0.20      0.21      1102\n",
      "          ZO1       0.00      0.00      0.00        60\n",
      "\n",
      "  avg / total       0.15      0.15      0.15      5449\n",
      "\n"
     ]
    }
   ],
   "source": [
    "# Compare to baseline of random guessing based on class distributions\n",
    "print(classification_report(y_true=y_test_R, y_pred=model_RandomClass(y_test_R)))"
   ]
  },
  {
   "cell_type": "markdown",
   "metadata": {},
   "source": [
    "### Investigate Coefficients"
   ]
  },
  {
   "cell_type": "code",
   "execution_count": 16,
   "metadata": {
    "collapsed": true
   },
   "outputs": [],
   "source": [
    "# Split to features and labels\n",
    "X_R_notreduced = df_reduce[feat_cols_R]\n",
    "y_Rn = df_reduce.structureProteinName"
   ]
  },
  {
   "cell_type": "code",
   "execution_count": 17,
   "metadata": {
    "collapsed": false
   },
   "outputs": [],
   "source": [
    "# Normalize so coefficients can be compared\n",
    "min_max_scaler = MinMaxScaler()\n",
    "np_scaled = min_max_scaler.fit_transform(X_R_notreduced)\n",
    "df_normalized = pd.DataFrame(np_scaled)\n",
    "df_normalized.columns = feat_cols_R"
   ]
  },
  {
   "cell_type": "code",
   "execution_count": 18,
   "metadata": {
    "collapsed": true
   },
   "outputs": [],
   "source": [
    "X_Rn = df_normalized"
   ]
  },
  {
   "cell_type": "code",
   "execution_count": 19,
   "metadata": {
    "collapsed": true
   },
   "outputs": [],
   "source": [
    "X_train_Rn, X_test_Rn, y_train_Rn, y_test_Rn = train_test_split(X_Rn, y_Rn, random_state=10)"
   ]
  },
  {
   "cell_type": "code",
   "execution_count": 20,
   "metadata": {
    "collapsed": true
   },
   "outputs": [],
   "source": [
    "model_Rn = LogisticRegression(penalty='l1')"
   ]
  },
  {
   "cell_type": "code",
   "execution_count": 21,
   "metadata": {
    "collapsed": false
   },
   "outputs": [],
   "source": [
    "#model_Rn.fit(X_train_Rn, y_train_Rn)"
   ]
  },
  {
   "cell_type": "code",
   "execution_count": 22,
   "metadata": {
    "collapsed": false
   },
   "outputs": [],
   "source": [
    "#joblib.dump(model_Rn, 'models/logregL1_reduced_norm.pkl') "
   ]
  },
  {
   "cell_type": "code",
   "execution_count": 23,
   "metadata": {
    "collapsed": true
   },
   "outputs": [],
   "source": [
    "model_Rn = joblib.load('models/logregL1_reduced_norm.pkl')"
   ]
  },
  {
   "cell_type": "code",
   "execution_count": 24,
   "metadata": {
    "collapsed": false
   },
   "outputs": [
    {
     "name": "stdout",
     "output_type": "stream",
     "text": [
      "               precision    recall  f1-score   support\n",
      "\n",
      "Alpha actinin       0.31      0.31      0.31       127\n",
      "Alpha tubulin       0.33      0.34      0.34       852\n",
      "   Beta actin       0.38      0.28      0.32       414\n",
      "  Desmoplakin       0.28      0.25      0.27       605\n",
      "  Fibrillarin       0.30      0.22      0.26       234\n",
      "     Lamin B1       0.39      0.55      0.45      1105\n",
      "   Myosin IIB       0.00      0.00      0.00        49\n",
      "      ST6GAL1       0.41      0.27      0.33       402\n",
      "   Sec61 beta       0.30      0.11      0.16       499\n",
      "        Tom20       0.33      0.41      0.37      1102\n",
      "          ZO1       0.39      0.27      0.32        60\n",
      "\n",
      "  avg / total       0.34      0.35      0.33      5449\n",
      "\n"
     ]
    }
   ],
   "source": [
    "print(classification_report(y_true=y_test_Rn, y_pred=model_Rn.predict(X_test_Rn)))"
   ]
  },
  {
   "cell_type": "code",
   "execution_count": 25,
   "metadata": {
    "collapsed": true
   },
   "outputs": [],
   "source": [
    "coef_df = pd.DataFrame(np.transpose(model_Rn.coef_))\n",
    "coef_df.columns = model_Rn.classes_\n",
    "coefficients = pd.concat([pd.DataFrame(X_Rn.columns),coef_df], axis = 1)"
   ]
  },
  {
   "cell_type": "code",
   "execution_count": 26,
   "metadata": {
    "collapsed": false,
    "scrolled": true
   },
   "outputs": [
    {
     "data": {
      "text/html": [
       "<div>\n",
       "<style>\n",
       "    .dataframe thead tr:only-child th {\n",
       "        text-align: right;\n",
       "    }\n",
       "\n",
       "    .dataframe thead th {\n",
       "        text-align: left;\n",
       "    }\n",
       "\n",
       "    .dataframe tbody tr th {\n",
       "        vertical-align: top;\n",
       "    }\n",
       "</style>\n",
       "<table border=\"1\" class=\"dataframe\">\n",
       "  <thead>\n",
       "    <tr style=\"text-align: right;\">\n",
       "      <th></th>\n",
       "      <th>0</th>\n",
       "      <th>Lamin B1</th>\n",
       "    </tr>\n",
       "  </thead>\n",
       "  <tbody>\n",
       "    <tr>\n",
       "      <th>8</th>\n",
       "      <td>feat_nuc_mt_edge_1</td>\n",
       "      <td>4.999023</td>\n",
       "    </tr>\n",
       "    <tr>\n",
       "      <th>195</th>\n",
       "      <td>feat_cell_obj_mean_depth</td>\n",
       "      <td>3.598484</td>\n",
       "    </tr>\n",
       "    <tr>\n",
       "      <th>13</th>\n",
       "      <td>feat_cell_region_histogram_px_1</td>\n",
       "      <td>3.074944</td>\n",
       "    </tr>\n",
       "    <tr>\n",
       "      <th>86</th>\n",
       "      <td>feat_cell_mt_distHist_2</td>\n",
       "      <td>2.978566</td>\n",
       "    </tr>\n",
       "    <tr>\n",
       "      <th>689</th>\n",
       "      <td>feat_nuc_mt_edge_region_hist_2</td>\n",
       "      <td>2.623696</td>\n",
       "    </tr>\n",
       "    <tr>\n",
       "      <th>98</th>\n",
       "      <td>feat_cell_mt_region_hist_151</td>\n",
       "      <td>2.198621</td>\n",
       "    </tr>\n",
       "    <tr>\n",
       "      <th>284</th>\n",
       "      <td>feat_cell_mt_region_hist_2</td>\n",
       "      <td>2.042106</td>\n",
       "    </tr>\n",
       "    <tr>\n",
       "      <th>40</th>\n",
       "      <td>feat_nuc_polarity_nuc_distal_affinity</td>\n",
       "      <td>-2.049277</td>\n",
       "    </tr>\n",
       "    <tr>\n",
       "      <th>232</th>\n",
       "      <td>feat_cell_obj_tot_sphericity</td>\n",
       "      <td>-2.183667</td>\n",
       "    </tr>\n",
       "    <tr>\n",
       "      <th>857</th>\n",
       "      <td>feat_nuc_mt_edge_region_hist_43</td>\n",
       "      <td>-2.304385</td>\n",
       "    </tr>\n",
       "    <tr>\n",
       "      <th>18</th>\n",
       "      <td>feat_nuc_mt_edge_8</td>\n",
       "      <td>-2.547648</td>\n",
       "    </tr>\n",
       "    <tr>\n",
       "      <th>865</th>\n",
       "      <td>feat_nuc_shape_MajorAxisLength</td>\n",
       "      <td>-2.990621</td>\n",
       "    </tr>\n",
       "    <tr>\n",
       "      <th>0</th>\n",
       "      <td>feat_cell_obj_tot_height</td>\n",
       "      <td>-3.250654</td>\n",
       "    </tr>\n",
       "    <tr>\n",
       "      <th>35</th>\n",
       "      <td>feat_cell_mt_edge_15</td>\n",
       "      <td>-4.206930</td>\n",
       "    </tr>\n",
       "  </tbody>\n",
       "</table>\n",
       "</div>"
      ],
      "text/plain": [
       "                                         0  Lamin B1\n",
       "8                       feat_nuc_mt_edge_1  4.999023\n",
       "195               feat_cell_obj_mean_depth  3.598484\n",
       "13         feat_cell_region_histogram_px_1  3.074944\n",
       "86                 feat_cell_mt_distHist_2  2.978566\n",
       "689         feat_nuc_mt_edge_region_hist_2  2.623696\n",
       "98            feat_cell_mt_region_hist_151  2.198621\n",
       "284             feat_cell_mt_region_hist_2  2.042106\n",
       "40   feat_nuc_polarity_nuc_distal_affinity -2.049277\n",
       "232           feat_cell_obj_tot_sphericity -2.183667\n",
       "857        feat_nuc_mt_edge_region_hist_43 -2.304385\n",
       "18                      feat_nuc_mt_edge_8 -2.547648\n",
       "865         feat_nuc_shape_MajorAxisLength -2.990621\n",
       "0                 feat_cell_obj_tot_height -3.250654\n",
       "35                    feat_cell_mt_edge_15 -4.206930"
      ]
     },
     "execution_count": 26,
     "metadata": {},
     "output_type": "execute_result"
    }
   ],
   "source": [
    "# Look at coefficients for largest class, Lamin B1, where the coef is over 2\n",
    "coefficients[abs(coefficients[\"Lamin B1\"])>2]\\\n",
    ".sort_values(\"Lamin B1\", ascending=False)[[0,\"Lamin B1\"]]"
   ]
  },
  {
   "cell_type": "markdown",
   "metadata": {},
   "source": [
    "# Normalized LogReg w/ balanced class weights"
   ]
  },
  {
   "cell_type": "code",
   "execution_count": 34,
   "metadata": {
    "collapsed": true
   },
   "outputs": [],
   "source": [
    "model_Rn_balance = LogisticRegression(penalty='l2', class_weight=\"balanced\")"
   ]
  },
  {
   "cell_type": "code",
   "execution_count": 35,
   "metadata": {
    "collapsed": false
   },
   "outputs": [
    {
     "data": {
      "text/plain": [
       "LogisticRegression(C=1.0, class_weight='balanced', dual=False,\n",
       "          fit_intercept=True, intercept_scaling=1, max_iter=100,\n",
       "          multi_class='ovr', n_jobs=1, penalty='l2', random_state=None,\n",
       "          solver='liblinear', tol=0.0001, verbose=0, warm_start=False)"
      ]
     },
     "execution_count": 35,
     "metadata": {},
     "output_type": "execute_result"
    }
   ],
   "source": [
    "#model_Rn_balance.fit(X_train_Rn, y_train_Rn)"
   ]
  },
  {
   "cell_type": "code",
   "execution_count": 36,
   "metadata": {
    "collapsed": false
   },
   "outputs": [
    {
     "data": {
      "text/plain": [
       "['models/logregL2_reduced_norm_balance.pkl']"
      ]
     },
     "execution_count": 36,
     "metadata": {},
     "output_type": "execute_result"
    }
   ],
   "source": [
    "#joblib.dump(model_Rn_balance, 'models/logregL2_reduced_norm_balance.pkl') "
   ]
  },
  {
   "cell_type": "code",
   "execution_count": 37,
   "metadata": {
    "collapsed": true
   },
   "outputs": [],
   "source": [
    "model_Rn_balance = joblib.load('models/logregL2_reduced_norm_balance.pkl')"
   ]
  },
  {
   "cell_type": "code",
   "execution_count": 38,
   "metadata": {
    "collapsed": false
   },
   "outputs": [
    {
     "name": "stdout",
     "output_type": "stream",
     "text": [
      "               precision    recall  f1-score   support\n",
      "\n",
      "Alpha actinin       0.24      0.61      0.35       127\n",
      "Alpha tubulin       0.36      0.27      0.31       852\n",
      "   Beta actin       0.29      0.34      0.31       414\n",
      "  Desmoplakin       0.29      0.29      0.29       605\n",
      "  Fibrillarin       0.22      0.38      0.28       234\n",
      "     Lamin B1       0.44      0.40      0.42      1105\n",
      "   Myosin IIB       0.11      0.31      0.16        49\n",
      "      ST6GAL1       0.32      0.50      0.39       402\n",
      "   Sec61 beta       0.24      0.16      0.19       499\n",
      "        Tom20       0.37      0.26      0.30      1102\n",
      "          ZO1       0.23      0.52      0.32        60\n",
      "\n",
      "  avg / total       0.34      0.32      0.32      5449\n",
      "\n"
     ]
    }
   ],
   "source": [
    "print(classification_report(y_true=y_test_Rn, y_pred=model_Rn_balance.predict(X_test_Rn)))"
   ]
  },
  {
   "cell_type": "markdown",
   "metadata": {},
   "source": [
    "# Permutation Test"
   ]
  },
  {
   "cell_type": "code",
   "execution_count": 27,
   "metadata": {
    "collapsed": false
   },
   "outputs": [
    {
     "name": "stdout",
     "output_type": "stream",
     "text": [
      "               precision    recall  f1-score   support\n",
      "\n",
      "Alpha actinin       0.31      0.31      0.31       127\n",
      "Alpha tubulin       0.33      0.34      0.34       852\n",
      "   Beta actin       0.38      0.28      0.32       414\n",
      "  Desmoplakin       0.28      0.25      0.27       605\n",
      "  Fibrillarin       0.30      0.22      0.26       234\n",
      "     Lamin B1       0.39      0.55      0.45      1105\n",
      "   Myosin IIB       0.00      0.00      0.00        49\n",
      "      ST6GAL1       0.41      0.27      0.33       402\n",
      "   Sec61 beta       0.30      0.11      0.16       499\n",
      "        Tom20       0.33      0.41      0.37      1102\n",
      "          ZO1       0.39      0.27      0.32        60\n",
      "\n",
      "  avg / total       0.34      0.35      0.33      5449\n",
      "\n"
     ]
    }
   ],
   "source": [
    "print(classification_report(y_true=y_test_Rn, y_pred=model_Rn.predict(X_test_Rn)))"
   ]
  },
  {
   "cell_type": "markdown",
   "metadata": {},
   "source": [
    "#### Scramble labels to see how the model performs"
   ]
  },
  {
   "cell_type": "code",
   "execution_count": 40,
   "metadata": {
    "collapsed": false
   },
   "outputs": [
    {
     "name": "stdout",
     "output_type": "stream",
     "text": [
      "               precision    recall  f1-score   support\n",
      "\n",
      "Alpha actinin       0.02      0.02      0.02       127\n",
      "Alpha tubulin       0.14      0.15      0.14       852\n",
      "   Beta actin       0.06      0.04      0.05       414\n",
      "  Desmoplakin       0.10      0.09      0.09       605\n",
      "  Fibrillarin       0.04      0.03      0.03       234\n",
      "     Lamin B1       0.20      0.28      0.23      1105\n",
      "   Myosin IIB       0.00      0.00      0.00        49\n",
      "      ST6GAL1       0.05      0.03      0.04       402\n",
      "   Sec61 beta       0.12      0.05      0.07       499\n",
      "        Tom20       0.19      0.23      0.21      1102\n",
      "          ZO1       0.02      0.02      0.02        60\n",
      "\n",
      "  avg / total       0.13      0.15      0.14      5449\n",
      "\n"
     ]
    }
   ],
   "source": [
    "print(classification_report(y_true=np.random.choice(y_test_Rn,size=len(y_test_Rn),replace=False), y_pred=model_Rn.predict(X_test_Rn)))"
   ]
  },
  {
   "cell_type": "markdown",
   "metadata": {
    "collapsed": true
   },
   "source": [
    "# Train LogReg on all Features - w/ balanced class weights"
   ]
  },
  {
   "cell_type": "code",
   "execution_count": 29,
   "metadata": {
    "collapsed": true
   },
   "outputs": [],
   "source": [
    "columns_clean = df_clean.columns\n",
    "feat_cols_clean = []\n",
    "for name in columns_clean:\n",
    "    if name != \"structureProteinName\" and name != \"cellID\" and name != \"save_feats_path\":\n",
    "        feat_cols_clean.append(name)"
   ]
  },
  {
   "cell_type": "code",
   "execution_count": 41,
   "metadata": {
    "collapsed": true
   },
   "outputs": [],
   "source": [
    "# Split to features and labels\n",
    "X_clean_temp = df_clean[feat_cols_clean]\n",
    "y_clean = df_clean.structureProteinName"
   ]
  },
  {
   "cell_type": "code",
   "execution_count": 42,
   "metadata": {
    "collapsed": true
   },
   "outputs": [],
   "source": [
    "# Normalize so coefficients can be compared\n",
    "min_max_scaler = MinMaxScaler()\n",
    "np_scaled_clean = min_max_scaler.fit_transform(X_clean_temp)\n",
    "df_normalized_clean = pd.DataFrame(np_scaled_clean)\n",
    "df_normalized_clean.columns = feat_cols_clean"
   ]
  },
  {
   "cell_type": "code",
   "execution_count": 43,
   "metadata": {
    "collapsed": true
   },
   "outputs": [],
   "source": [
    "X_clean = df_normalized_clean"
   ]
  },
  {
   "cell_type": "code",
   "execution_count": 44,
   "metadata": {
    "collapsed": true
   },
   "outputs": [],
   "source": [
    "X_train_clean, X_test_clean, y_train_clean, y_test_clean = train_test_split(X_clean, y_clean, random_state=10)"
   ]
  },
  {
   "cell_type": "code",
   "execution_count": 45,
   "metadata": {
    "collapsed": false
   },
   "outputs": [
    {
     "data": {
      "text/plain": [
       "(16344, 1663)"
      ]
     },
     "execution_count": 45,
     "metadata": {},
     "output_type": "execute_result"
    }
   ],
   "source": [
    "X_train_clean.shape"
   ]
  },
  {
   "cell_type": "code",
   "execution_count": 46,
   "metadata": {
    "collapsed": true
   },
   "outputs": [],
   "source": [
    "model_clean = LogisticRegression(penalty='l2', class_weight='balanced')"
   ]
  },
  {
   "cell_type": "code",
   "execution_count": 47,
   "metadata": {
    "collapsed": false
   },
   "outputs": [
    {
     "data": {
      "text/plain": [
       "LogisticRegression(C=1.0, class_weight='balanced', dual=False,\n",
       "          fit_intercept=True, intercept_scaling=1, max_iter=100,\n",
       "          multi_class='ovr', n_jobs=1, penalty='l2', random_state=None,\n",
       "          solver='liblinear', tol=0.0001, verbose=0, warm_start=False)"
      ]
     },
     "execution_count": 47,
     "metadata": {},
     "output_type": "execute_result"
    }
   ],
   "source": [
    "model_clean.fit(X_train_clean, y_train_clean)"
   ]
  },
  {
   "cell_type": "code",
   "execution_count": 48,
   "metadata": {
    "collapsed": false
   },
   "outputs": [
    {
     "data": {
      "text/plain": [
       "['models/logregL2_clean_norm_balance.pkl']"
      ]
     },
     "execution_count": 48,
     "metadata": {},
     "output_type": "execute_result"
    }
   ],
   "source": [
    "joblib.dump(model_clean, 'models/logregL2_clean_norm_balance.pkl') "
   ]
  },
  {
   "cell_type": "code",
   "execution_count": null,
   "metadata": {
    "collapsed": true
   },
   "outputs": [],
   "source": [
    "#model_clean =joblibblib.load('models/logregL2_clean_norm_balance.pkl')"
   ]
  },
  {
   "cell_type": "code",
   "execution_count": 49,
   "metadata": {
    "collapsed": false
   },
   "outputs": [
    {
     "name": "stdout",
     "output_type": "stream",
     "text": [
      "               precision    recall  f1-score   support\n",
      "\n",
      "Alpha actinin       0.26      0.56      0.35       127\n",
      "Alpha tubulin       0.36      0.28      0.31       852\n",
      "   Beta actin       0.28      0.35      0.31       414\n",
      "  Desmoplakin       0.25      0.26      0.26       605\n",
      "  Fibrillarin       0.22      0.38      0.28       234\n",
      "     Lamin B1       0.44      0.39      0.42      1105\n",
      "   Myosin IIB       0.14      0.24      0.18        49\n",
      "      ST6GAL1       0.32      0.46      0.37       402\n",
      "   Sec61 beta       0.22      0.18      0.20       499\n",
      "        Tom20       0.36      0.28      0.31      1102\n",
      "          ZO1       0.31      0.53      0.39        60\n",
      "\n",
      "  avg / total       0.33      0.32      0.32      5449\n",
      "\n"
     ]
    }
   ],
   "source": [
    "print(classification_report(y_true=y_test_clean, y_pred=model_clean.predict(X_test_clean)))"
   ]
  },
  {
   "cell_type": "code",
   "execution_count": null,
   "metadata": {
    "collapsed": true
   },
   "outputs": [],
   "source": [
    "s"
   ]
  }
 ],
 "metadata": {
  "kernelspec": {
   "display_name": "Python 2",
   "language": "python",
   "name": "python2"
  },
  "language_info": {
   "codemirror_mode": {
    "name": "ipython",
    "version": 2
   },
   "file_extension": ".py",
   "mimetype": "text/x-python",
   "name": "python",
   "nbconvert_exporter": "python",
   "pygments_lexer": "ipython2",
   "version": "2.7.13"
  }
 },
 "nbformat": 4,
 "nbformat_minor": 2
}
