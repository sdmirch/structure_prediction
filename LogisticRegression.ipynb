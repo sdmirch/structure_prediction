{
 "cells": [
  {
   "cell_type": "code",
   "execution_count": 16,
   "metadata": {
    "collapsed": false
   },
   "outputs": [],
   "source": [
    "import pandas as pd\n",
    "import numpy as np\n",
    "import matplotlib.pyplot as plt\n",
    "from collections import Counter\n",
    "\n",
    "from sklearn.externals import joblib\n",
    "from sklearn.preprocessing import StandardScaler\n",
    "from sklearn.linear_model import LogisticRegression\n",
    "from sklearn.model_selection import train_test_split\n",
    "from sklearn.metrics import roc_curve, classification_report\n",
    "\n",
    "\n",
    "%matplotlib inline\n",
    "plt.style.use('ggplot')\n",
    "\n",
    "from utils.clean_utils import reduce_dataframe, clean_dataframe\n",
    "from utils.model import model_RandomClass"
   ]
  },
  {
   "cell_type": "code",
   "execution_count": 3,
   "metadata": {
    "collapsed": false
   },
   "outputs": [],
   "source": [
    "df_clean = pd.read_csv('data/feats_cleaned.csv')\n",
    "df_reduce = pd.read_csv('data/feats_reduced_byRF.csv')"
   ]
  },
  {
   "cell_type": "markdown",
   "metadata": {},
   "source": [
    "# Logistic Regression using the Reduced DF"
   ]
  },
  {
   "cell_type": "code",
   "execution_count": 4,
   "metadata": {
    "collapsed": false
   },
   "outputs": [],
   "source": [
    "columns_R = df_reduce.columns\n",
    "feat_cols_R = []\n",
    "for name in columns_R:\n",
    "    if name != \"structureProteinName\" and name != \"cellID\" and name != \"save_feats_path\":\n",
    "        feat_cols_R.append(name)"
   ]
  },
  {
   "cell_type": "code",
   "execution_count": 5,
   "metadata": {
    "collapsed": true
   },
   "outputs": [],
   "source": [
    "# Split to features and labels\n",
    "X_R = df_reduce[feat_cols_R]\n",
    "y_R = df_reduce.structureProteinName"
   ]
  },
  {
   "cell_type": "code",
   "execution_count": 6,
   "metadata": {
    "collapsed": true
   },
   "outputs": [],
   "source": [
    "X_train_R, X_test_R, y_train_R, y_test_R = train_test_split(X_R, y_R, random_state=10)"
   ]
  },
  {
   "cell_type": "code",
   "execution_count": 8,
   "metadata": {
    "collapsed": true
   },
   "outputs": [],
   "source": [
    "model_R = LogisticRegression(penalty='l1')"
   ]
  },
  {
   "cell_type": "code",
   "execution_count": 9,
   "metadata": {
    "collapsed": false
   },
   "outputs": [
    {
     "data": {
      "text/plain": [
       "LogisticRegression(C=1.0, class_weight=None, dual=False, fit_intercept=True,\n",
       "          intercept_scaling=1, max_iter=100, multi_class='ovr', n_jobs=1,\n",
       "          penalty='l1', random_state=None, solver='liblinear', tol=0.0001,\n",
       "          verbose=0, warm_start=False)"
      ]
     },
     "execution_count": 9,
     "metadata": {},
     "output_type": "execute_result"
    }
   ],
   "source": [
    "# model_R.fit(X_train_R, y_train_R)"
   ]
  },
  {
   "cell_type": "code",
   "execution_count": 10,
   "metadata": {
    "collapsed": false
   },
   "outputs": [
    {
     "data": {
      "text/plain": [
       "['models/logregL1_reduced.pkl']"
      ]
     },
     "execution_count": 10,
     "metadata": {},
     "output_type": "execute_result"
    }
   ],
   "source": [
    "#joblib.dump(model_R, 'models/logregL1_reduced.pkl') "
   ]
  },
  {
   "cell_type": "markdown",
   "metadata": {},
   "source": [
    "### Classification Report Comparisons"
   ]
  },
  {
   "cell_type": "code",
   "execution_count": null,
   "metadata": {
    "collapsed": true
   },
   "outputs": [],
   "source": [
    "model_R = joblib.load('models/logregL1_reduced.pkl')"
   ]
  },
  {
   "cell_type": "code",
   "execution_count": 11,
   "metadata": {
    "collapsed": true
   },
   "outputs": [],
   "source": [
    "# Read in an L2 model from a different session with a test/train split with same random state\n",
    "model_R_l2 = joblib.load('models/logregL2_reduced.pkl')"
   ]
  },
  {
   "cell_type": "code",
   "execution_count": 14,
   "metadata": {
    "collapsed": false
   },
   "outputs": [
    {
     "name": "stdout",
     "output_type": "stream",
     "text": [
      "               precision    recall  f1-score   support\n",
      "\n",
      "Alpha actinin       0.21      0.31      0.25       127\n",
      "Alpha tubulin       0.32      0.31      0.32       852\n",
      "   Beta actin       0.31      0.25      0.27       414\n",
      "  Desmoplakin       0.27      0.25      0.26       605\n",
      "  Fibrillarin       0.23      0.24      0.23       234\n",
      "     Lamin B1       0.38      0.48      0.42      1105\n",
      "   Myosin IIB       0.07      0.08      0.07        49\n",
      "      ST6GAL1       0.35      0.28      0.31       402\n",
      "   Sec61 beta       0.26      0.14      0.18       499\n",
      "        Tom20       0.34      0.36      0.35      1102\n",
      "          ZO1       0.21      0.22      0.21        60\n",
      "\n",
      "  avg / total       0.32      0.32      0.31      5449\n",
      "\n"
     ]
    }
   ],
   "source": [
    "# L1 LogReg\n",
    "print(classification_report(y_true=y_test_R, y_pred=model_R.predict(X_test_R)))"
   ]
  },
  {
   "cell_type": "code",
   "execution_count": 15,
   "metadata": {
    "collapsed": false
   },
   "outputs": [
    {
     "name": "stdout",
     "output_type": "stream",
     "text": [
      "               precision    recall  f1-score   support\n",
      "\n",
      "Alpha actinin       0.25      0.28      0.27       127\n",
      "Alpha tubulin       0.31      0.31      0.31       852\n",
      "   Beta actin       0.29      0.22      0.25       414\n",
      "  Desmoplakin       0.24      0.20      0.22       605\n",
      "  Fibrillarin       0.21      0.21      0.21       234\n",
      "     Lamin B1       0.35      0.48      0.41      1105\n",
      "   Myosin IIB       0.12      0.12      0.12        49\n",
      "      ST6GAL1       0.33      0.22      0.27       402\n",
      "   Sec61 beta       0.24      0.12      0.16       499\n",
      "        Tom20       0.32      0.36      0.34      1102\n",
      "          ZO1       0.25      0.30      0.27        60\n",
      "\n",
      "  avg / total       0.30      0.31      0.30      5449\n",
      "\n"
     ]
    }
   ],
   "source": [
    "# L2 LogReg\n",
    "print(classification_report(y_true=y_test_R, y_pred=model_R_l2.predict(X_test_R)))"
   ]
  },
  {
   "cell_type": "code",
   "execution_count": 17,
   "metadata": {
    "collapsed": false
   },
   "outputs": [
    {
     "name": "stdout",
     "output_type": "stream",
     "text": [
      "               precision    recall  f1-score   support\n",
      "\n",
      "Alpha actinin       0.04      0.04      0.04       127\n",
      "Alpha tubulin       0.16      0.16      0.16       852\n",
      "   Beta actin       0.06      0.06      0.06       414\n",
      "  Desmoplakin       0.11      0.11      0.11       605\n",
      "  Fibrillarin       0.04      0.04      0.04       234\n",
      "     Lamin B1       0.19      0.20      0.20      1105\n",
      "   Myosin IIB       0.00      0.00      0.00        49\n",
      "      ST6GAL1       0.06      0.06      0.06       402\n",
      "   Sec61 beta       0.10      0.10      0.10       499\n",
      "        Tom20       0.22      0.21      0.21      1102\n",
      "          ZO1       0.00      0.00      0.00        60\n",
      "\n",
      "  avg / total       0.14      0.14      0.14      5449\n",
      "\n"
     ]
    }
   ],
   "source": [
    "# Compare to baseline of random guessing based on class distributions\n",
    "print(classification_report(y_true=y_test_R, y_pred=model_RandomClass(y_test_R)))"
   ]
  },
  {
   "cell_type": "markdown",
   "metadata": {},
   "source": [
    "### Investigate Coefficients"
   ]
  },
  {
   "cell_type": "code",
   "execution_count": 18,
   "metadata": {
    "collapsed": true
   },
   "outputs": [],
   "source": [
    "coef_df = pd.DataFrame(np.transpose(model_R.coef_))\n",
    "coef_df.columns = model_R.classes_\n",
    "coefficients = pd.concat([pd.DataFrame(X_R.columns),coef_df], axis = 1)"
   ]
  },
  {
   "cell_type": "code",
   "execution_count": 21,
   "metadata": {
    "collapsed": false
   },
   "outputs": [
    {
     "data": {
      "text/html": [
       "<div>\n",
       "<style>\n",
       "    .dataframe thead tr:only-child th {\n",
       "        text-align: right;\n",
       "    }\n",
       "\n",
       "    .dataframe thead th {\n",
       "        text-align: left;\n",
       "    }\n",
       "\n",
       "    .dataframe tbody tr th {\n",
       "        vertical-align: top;\n",
       "    }\n",
       "</style>\n",
       "<table border=\"1\" class=\"dataframe\">\n",
       "  <thead>\n",
       "    <tr style=\"text-align: right;\">\n",
       "      <th></th>\n",
       "      <th>0</th>\n",
       "      <th>Lamin B1</th>\n",
       "    </tr>\n",
       "  </thead>\n",
       "  <tbody>\n",
       "    <tr>\n",
       "      <th>13</th>\n",
       "      <td>feat_cell_region_histogram_px_1</td>\n",
       "      <td>3.987767</td>\n",
       "    </tr>\n",
       "    <tr>\n",
       "      <th>139</th>\n",
       "      <td>feat_nuc_mt_histDistLevel2_5</td>\n",
       "      <td>2.392088</td>\n",
       "    </tr>\n",
       "    <tr>\n",
       "      <th>8</th>\n",
       "      <td>feat_nuc_mt_edge_1</td>\n",
       "      <td>1.798868</td>\n",
       "    </tr>\n",
       "    <tr>\n",
       "      <th>162</th>\n",
       "      <td>feat_cell_mt_edge_21</td>\n",
       "      <td>1.265710</td>\n",
       "    </tr>\n",
       "    <tr>\n",
       "      <th>47</th>\n",
       "      <td>feat_nuc_mt_statDistLevel_1</td>\n",
       "      <td>1.172069</td>\n",
       "    </tr>\n",
       "    <tr>\n",
       "      <th>812</th>\n",
       "      <td>feat_nuc_obj_mean_depth</td>\n",
       "      <td>0.778816</td>\n",
       "    </tr>\n",
       "    <tr>\n",
       "      <th>281</th>\n",
       "      <td>feat_nuc_shape_Solidity</td>\n",
       "      <td>0.735104</td>\n",
       "    </tr>\n",
       "    <tr>\n",
       "      <th>52</th>\n",
       "      <td>feat_nuc_region_median_px</td>\n",
       "      <td>0.671330</td>\n",
       "    </tr>\n",
       "    <tr>\n",
       "      <th>33</th>\n",
       "      <td>feat_cell_mt_edge_1</td>\n",
       "      <td>0.624674</td>\n",
       "    </tr>\n",
       "    <tr>\n",
       "      <th>251</th>\n",
       "      <td>feat_cell_mt_histDistLevel2_5</td>\n",
       "      <td>0.621232</td>\n",
       "    </tr>\n",
       "    <tr>\n",
       "      <th>208</th>\n",
       "      <td>feat_cell_obj_mean_degree</td>\n",
       "      <td>0.619354</td>\n",
       "    </tr>\n",
       "    <tr>\n",
       "      <th>195</th>\n",
       "      <td>feat_cell_obj_mean_depth</td>\n",
       "      <td>0.544825</td>\n",
       "    </tr>\n",
       "    <tr>\n",
       "      <th>97</th>\n",
       "      <td>feat_cell_mt_edge_11</td>\n",
       "      <td>-0.708844</td>\n",
       "    </tr>\n",
       "    <tr>\n",
       "      <th>35</th>\n",
       "      <td>feat_cell_mt_edge_15</td>\n",
       "      <td>-0.723289</td>\n",
       "    </tr>\n",
       "    <tr>\n",
       "      <th>2</th>\n",
       "      <td>feat_cell_polarity_cyto_z_affinity</td>\n",
       "      <td>-0.904810</td>\n",
       "    </tr>\n",
       "    <tr>\n",
       "      <th>18</th>\n",
       "      <td>feat_nuc_mt_edge_8</td>\n",
       "      <td>-1.108333</td>\n",
       "    </tr>\n",
       "    <tr>\n",
       "      <th>28</th>\n",
       "      <td>feat_nuc_region_histogram_px_3</td>\n",
       "      <td>-1.150114</td>\n",
       "    </tr>\n",
       "    <tr>\n",
       "      <th>40</th>\n",
       "      <td>feat_nuc_polarity_nuc_distal_affinity</td>\n",
       "      <td>-1.229922</td>\n",
       "    </tr>\n",
       "    <tr>\n",
       "      <th>232</th>\n",
       "      <td>feat_cell_obj_tot_sphericity</td>\n",
       "      <td>-1.288066</td>\n",
       "    </tr>\n",
       "    <tr>\n",
       "      <th>115</th>\n",
       "      <td>feat_cell_mt_edge_17</td>\n",
       "      <td>-1.777331</td>\n",
       "    </tr>\n",
       "    <tr>\n",
       "      <th>37</th>\n",
       "      <td>feat_cell_region_max_px</td>\n",
       "      <td>-2.548663</td>\n",
       "    </tr>\n",
       "  </tbody>\n",
       "</table>\n",
       "</div>"
      ],
      "text/plain": [
       "                                         0  Lamin B1\n",
       "13         feat_cell_region_histogram_px_1  3.987767\n",
       "139           feat_nuc_mt_histDistLevel2_5  2.392088\n",
       "8                       feat_nuc_mt_edge_1  1.798868\n",
       "162                   feat_cell_mt_edge_21  1.265710\n",
       "47             feat_nuc_mt_statDistLevel_1  1.172069\n",
       "812                feat_nuc_obj_mean_depth  0.778816\n",
       "281                feat_nuc_shape_Solidity  0.735104\n",
       "52               feat_nuc_region_median_px  0.671330\n",
       "33                     feat_cell_mt_edge_1  0.624674\n",
       "251          feat_cell_mt_histDistLevel2_5  0.621232\n",
       "208              feat_cell_obj_mean_degree  0.619354\n",
       "195               feat_cell_obj_mean_depth  0.544825\n",
       "97                    feat_cell_mt_edge_11 -0.708844\n",
       "35                    feat_cell_mt_edge_15 -0.723289\n",
       "2       feat_cell_polarity_cyto_z_affinity -0.904810\n",
       "18                      feat_nuc_mt_edge_8 -1.108333\n",
       "28          feat_nuc_region_histogram_px_3 -1.150114\n",
       "40   feat_nuc_polarity_nuc_distal_affinity -1.229922\n",
       "232           feat_cell_obj_tot_sphericity -1.288066\n",
       "115                   feat_cell_mt_edge_17 -1.777331\n",
       "37                 feat_cell_region_max_px -2.548663"
      ]
     },
     "execution_count": 21,
     "metadata": {},
     "output_type": "execute_result"
    }
   ],
   "source": [
    "# Look at coefficients for largest class, Lamin B1, where the coef is ove 0.5\n",
    "coefficients[abs(coefficients[\"Lamin B1\"])>0.5]\\\n",
    ".sort_values(\"Lamin B1\", ascending=False)[[0,\"Lamin B1\"]]"
   ]
  },
  {
   "cell_type": "code",
   "execution_count": null,
   "metadata": {
    "collapsed": true
   },
   "outputs": [],
   "source": []
  }
 ],
 "metadata": {
  "kernelspec": {
   "display_name": "Python 2",
   "language": "python",
   "name": "python2"
  },
  "language_info": {
   "codemirror_mode": {
    "name": "ipython",
    "version": 2
   },
   "file_extension": ".py",
   "mimetype": "text/x-python",
   "name": "python",
   "nbconvert_exporter": "python",
   "pygments_lexer": "ipython2",
   "version": "2.7.13"
  }
 },
 "nbformat": 4,
 "nbformat_minor": 2
}
