{
 "cells": [
  {
   "cell_type": "code",
   "execution_count": 1,
   "metadata": {
    "collapsed": true
   },
   "outputs": [],
   "source": [
    "import pandas as pd\n",
    "import numpy as np\n",
    "import matplotlib.pyplot as plt\n",
    "from collections import Counter\n",
    "\n",
    "from sklearn.externals import joblib\n",
    "from sklearn.preprocessing import MinMaxScaler\n",
    "from sklearn.linear_model import LogisticRegression\n",
    "from sklearn.ensemble import RandomForestClassifier, GradientBoostingClassifier\n",
    "\n",
    "from sklearn.model_selection import train_test_split, cross_val_score, GridSearchCV\n",
    "from sklearn.metrics import log_loss\n",
    "\n",
    "import xgboost as xgb\n",
    "\n",
    "%matplotlib inline\n",
    "plt.style.use('ggplot')\n",
    "\n",
    "#from utils.clean_utils import reduce_dataframe, clean_dataframe\n",
    "#from utils.model import model_RandomClass"
   ]
  },
  {
   "cell_type": "code",
   "execution_count": 2,
   "metadata": {
    "collapsed": true
   },
   "outputs": [],
   "source": [
    "df = pd.read_csv('data/feats_cleaned.csv')"
   ]
  },
  {
   "cell_type": "code",
   "execution_count": 3,
   "metadata": {
    "collapsed": true
   },
   "outputs": [],
   "source": [
    "columns = df.columns\n",
    "feat_cols = []\n",
    "for name in columns:\n",
    "    if name != \"structureProteinName\" and name != \"cellID\" and name != \"save_feats_path\":\n",
    "        feat_cols.append(name)"
   ]
  },
  {
   "cell_type": "code",
   "execution_count": 4,
   "metadata": {
    "collapsed": true
   },
   "outputs": [],
   "source": [
    "# Split to features and labels\n",
    "X_temp = df[feat_cols]\n",
    "y = df.structureProteinName"
   ]
  },
  {
   "cell_type": "code",
   "execution_count": 5,
   "metadata": {
    "collapsed": true
   },
   "outputs": [],
   "source": [
    "# Normalize so coefficients can be compared\n",
    "min_max_scaler = MinMaxScaler()\n",
    "np_scaled = min_max_scaler.fit_transform(X_temp)\n",
    "df_normalized = pd.DataFrame(np_scaled)\n",
    "df_normalized.columns = feat_cols"
   ]
  },
  {
   "cell_type": "code",
   "execution_count": 6,
   "metadata": {
    "collapsed": true
   },
   "outputs": [],
   "source": [
    "# Reset X to normalized features\n",
    "X = df_normalized"
   ]
  },
  {
   "cell_type": "code",
   "execution_count": 7,
   "metadata": {
    "collapsed": true
   },
   "outputs": [],
   "source": [
    "# Test Train Split stratified so classes are balanced in split\n",
    "X_train, X_test, y_train, y_test = train_test_split(X, y, random_state=10, test_size=.2, stratify=y)"
   ]
  },
  {
   "cell_type": "markdown",
   "metadata": {},
   "source": [
    "# Logistic Regression"
   ]
  },
  {
   "cell_type": "markdown",
   "metadata": {},
   "source": [
    "Ridge regression, stratified kfold is the default for cross val score "
   ]
  },
  {
   "cell_type": "code",
   "execution_count": 10,
   "metadata": {
    "collapsed": true
   },
   "outputs": [],
   "source": [
    "logregl2 = LogisticRegression(penalty='l2', class_weight='balanced')"
   ]
  },
  {
   "cell_type": "code",
   "execution_count": 11,
   "metadata": {
    "collapsed": false
   },
   "outputs": [
    {
     "name": "stdout",
     "output_type": "stream",
     "text": [
      "[-1.89897719 -1.88658122 -1.87964165]\n"
     ]
    }
   ],
   "source": [
    "print(cross_val_score(logregl2, X_train, y_train,scoring='neg_log_loss', cv=3, n_jobs=-1)) "
   ]
  },
  {
   "cell_type": "markdown",
   "metadata": {},
   "source": [
    "# Random Forest"
   ]
  },
  {
   "cell_type": "code",
   "execution_count": 19,
   "metadata": {
    "collapsed": true
   },
   "outputs": [],
   "source": [
    "rf = RandomForestClassifier(n_estimators=1000)"
   ]
  },
  {
   "cell_type": "code",
   "execution_count": 20,
   "metadata": {
    "collapsed": false
   },
   "outputs": [
    {
     "name": "stdout",
     "output_type": "stream",
     "text": [
      "[-1.87523338 -1.86819802 -1.87435025]\n"
     ]
    }
   ],
   "source": [
    "print(cross_val_score(rf, X_train, y_train,scoring='neg_log_loss', cv=3, n_jobs=-1)) "
   ]
  },
  {
   "cell_type": "markdown",
   "metadata": {},
   "source": [
    "# Gradient Boosting"
   ]
  },
  {
   "cell_type": "markdown",
   "metadata": {},
   "source": [
    "This is not the final GB model - trying xgboost on an EC2..."
   ]
  },
  {
   "cell_type": "code",
   "execution_count": 8,
   "metadata": {
    "collapsed": true
   },
   "outputs": [],
   "source": [
    "gbc = GradientBoostingClassifier(learning_rate=0.1, n_estimators=1000, max_depth=3)"
   ]
  },
  {
   "cell_type": "code",
   "execution_count": 9,
   "metadata": {
    "collapsed": false
   },
   "outputs": [
    {
     "name": "stdout",
     "output_type": "stream",
     "text": [
      "[-1.90803628 -1.89155934 -1.88932612]\n"
     ]
    }
   ],
   "source": [
    "print(cross_val_score(gbc, X_train, y_train, scoring='neg_log_loss', cv=3, n_jobs=-1)) "
   ]
  },
  {
   "cell_type": "markdown",
   "metadata": {
    "collapsed": true
   },
   "source": [
    "## Gradient Boosting Classification GridSearch"
   ]
  },
  {
   "cell_type": "code",
   "execution_count": 8,
   "metadata": {
    "collapsed": true
   },
   "outputs": [],
   "source": [
    "parameters = {'learning_rate':[0.0001], 'n_estimators':[1000], 'max_depth':[5,7,10,12,15]}"
   ]
  },
  {
   "cell_type": "code",
   "execution_count": null,
   "metadata": {
    "collapsed": true
   },
   "outputs": [],
   "source": [
    "gbc_gridsearch = GradientBoostingClassifier()\n",
    "clf = GridSearchCV(gbc_gridsearch, parameters, scoring='neg_log_loss', n_jobs=-1)\n",
    "clf.fit(X_train, y_train)"
   ]
  },
  {
   "cell_type": "code",
   "execution_count": 12,
   "metadata": {
    "collapsed": false
   },
   "outputs": [
    {
     "data": {
      "text/plain": [
       "{'learning_rate': 0.0001, 'max_depth': 10, 'n_estimators': 1000}"
      ]
     },
     "execution_count": 12,
     "metadata": {},
     "output_type": "execute_result"
    }
   ],
   "source": [
    "clf.best_params_"
   ]
  },
  {
   "cell_type": "code",
   "execution_count": 13,
   "metadata": {
    "collapsed": false
   },
   "outputs": [
    {
     "data": {
      "text/plain": [
       "GradientBoostingClassifier(criterion='friedman_mse', init=None,\n",
       "              learning_rate=0.0001, loss='deviance', max_depth=10,\n",
       "              max_features=None, max_leaf_nodes=None,\n",
       "              min_impurity_decrease=0.0, min_impurity_split=None,\n",
       "              min_samples_leaf=1, min_samples_split=2,\n",
       "              min_weight_fraction_leaf=0.0, n_estimators=1000,\n",
       "              presort='auto', random_state=None, subsample=1.0, verbose=0,\n",
       "              warm_start=False)"
      ]
     },
     "execution_count": 13,
     "metadata": {},
     "output_type": "execute_result"
    }
   ],
   "source": [
    "clf.best_estimator_"
   ]
  },
  {
   "cell_type": "code",
   "execution_count": 14,
   "metadata": {
    "collapsed": false
   },
   "outputs": [
    {
     "data": {
      "text/plain": [
       "['models/gbc_gridsearched.pkl']"
      ]
     },
     "execution_count": 14,
     "metadata": {},
     "output_type": "execute_result"
    }
   ],
   "source": [
    "joblib.dump(clf.best_estimator_, 'models/gbc_gridsearched.pkl') "
   ]
  },
  {
   "cell_type": "code",
   "execution_count": 15,
   "metadata": {
    "collapsed": false
   },
   "outputs": [
    {
     "data": {
      "text/plain": [
       "-2.2657941033217406"
      ]
     },
     "execution_count": 15,
     "metadata": {},
     "output_type": "execute_result"
    }
   ],
   "source": [
    "clf.best_score_"
   ]
  },
  {
   "cell_type": "markdown",
   "metadata": {},
   "source": [
    "# XGBoost"
   ]
  },
  {
   "cell_type": "code",
   "execution_count": 9,
   "metadata": {
    "collapsed": true
   },
   "outputs": [],
   "source": [
    "xgbc = xgb.XGBClassifier(learning_rate=0.1, n_estimators=1000, max_depth=3, n_jobs=-1)"
   ]
  },
  {
   "cell_type": "code",
   "execution_count": null,
   "metadata": {
    "collapsed": false
   },
   "outputs": [
    {
     "name": "stdout",
     "output_type": "stream",
     "text": [
      "[0]\tvalidation_0-mlogloss:2.34271\tvalidation_1-mlogloss:2.34578\n",
      "[1]\tvalidation_0-mlogloss:2.29516\tvalidation_1-mlogloss:2.3018\n",
      "[2]\tvalidation_0-mlogloss:2.2534\tvalidation_1-mlogloss:2.26347\n",
      "[3]\tvalidation_0-mlogloss:2.2162\tvalidation_1-mlogloss:2.22964\n",
      "[4]\tvalidation_0-mlogloss:2.18306\tvalidation_1-mlogloss:2.19966\n",
      "[5]\tvalidation_0-mlogloss:2.15286\tvalidation_1-mlogloss:2.17199\n",
      "[6]\tvalidation_0-mlogloss:2.1252\tvalidation_1-mlogloss:2.14707\n",
      "[7]\tvalidation_0-mlogloss:2.09993\tvalidation_1-mlogloss:2.12481\n",
      "[8]\tvalidation_0-mlogloss:2.07667\tvalidation_1-mlogloss:2.10428\n",
      "[9]\tvalidation_0-mlogloss:2.05513\tvalidation_1-mlogloss:2.08508\n",
      "[10]\tvalidation_0-mlogloss:2.03481\tvalidation_1-mlogloss:2.06773\n",
      "[11]\tvalidation_0-mlogloss:2.01623\tvalidation_1-mlogloss:2.05197\n",
      "[12]\tvalidation_0-mlogloss:1.99862\tvalidation_1-mlogloss:2.0374\n",
      "[13]\tvalidation_0-mlogloss:1.98187\tvalidation_1-mlogloss:2.02332\n",
      "[14]\tvalidation_0-mlogloss:1.9661\tvalidation_1-mlogloss:2.01009\n",
      "[15]\tvalidation_0-mlogloss:1.95163\tvalidation_1-mlogloss:1.99898\n",
      "[16]\tvalidation_0-mlogloss:1.93785\tvalidation_1-mlogloss:1.98866\n",
      "[17]\tvalidation_0-mlogloss:1.92471\tvalidation_1-mlogloss:1.97832\n",
      "[18]\tvalidation_0-mlogloss:1.91228\tvalidation_1-mlogloss:1.96867\n",
      "[19]\tvalidation_0-mlogloss:1.90057\tvalidation_1-mlogloss:1.95958\n",
      "[20]\tvalidation_0-mlogloss:1.88912\tvalidation_1-mlogloss:1.95111\n",
      "[21]\tvalidation_0-mlogloss:1.87823\tvalidation_1-mlogloss:1.94329\n",
      "[22]\tvalidation_0-mlogloss:1.86785\tvalidation_1-mlogloss:1.9362\n",
      "[23]\tvalidation_0-mlogloss:1.85805\tvalidation_1-mlogloss:1.92932\n",
      "[24]\tvalidation_0-mlogloss:1.84855\tvalidation_1-mlogloss:1.92234\n",
      "[25]\tvalidation_0-mlogloss:1.8394\tvalidation_1-mlogloss:1.9158\n",
      "[26]\tvalidation_0-mlogloss:1.83066\tvalidation_1-mlogloss:1.90999\n",
      "[27]\tvalidation_0-mlogloss:1.82205\tvalidation_1-mlogloss:1.90417\n",
      "[28]\tvalidation_0-mlogloss:1.81387\tvalidation_1-mlogloss:1.89897\n",
      "[29]\tvalidation_0-mlogloss:1.80623\tvalidation_1-mlogloss:1.89396\n",
      "[30]\tvalidation_0-mlogloss:1.79835\tvalidation_1-mlogloss:1.88848\n",
      "[31]\tvalidation_0-mlogloss:1.79107\tvalidation_1-mlogloss:1.88395\n",
      "[32]\tvalidation_0-mlogloss:1.78405\tvalidation_1-mlogloss:1.87949\n",
      "[33]\tvalidation_0-mlogloss:1.77703\tvalidation_1-mlogloss:1.87503\n",
      "[34]\tvalidation_0-mlogloss:1.7705\tvalidation_1-mlogloss:1.87139\n",
      "[35]\tvalidation_0-mlogloss:1.76378\tvalidation_1-mlogloss:1.86725\n",
      "[36]\tvalidation_0-mlogloss:1.75727\tvalidation_1-mlogloss:1.86315\n",
      "[37]\tvalidation_0-mlogloss:1.75116\tvalidation_1-mlogloss:1.8597\n",
      "[38]\tvalidation_0-mlogloss:1.74501\tvalidation_1-mlogloss:1.85645\n",
      "[39]\tvalidation_0-mlogloss:1.73914\tvalidation_1-mlogloss:1.85316\n",
      "[40]\tvalidation_0-mlogloss:1.73339\tvalidation_1-mlogloss:1.8507\n",
      "[41]\tvalidation_0-mlogloss:1.72776\tvalidation_1-mlogloss:1.84793\n",
      "[42]\tvalidation_0-mlogloss:1.72224\tvalidation_1-mlogloss:1.84508\n",
      "[43]\tvalidation_0-mlogloss:1.71662\tvalidation_1-mlogloss:1.84233\n",
      "[44]\tvalidation_0-mlogloss:1.71141\tvalidation_1-mlogloss:1.83987\n",
      "[45]\tvalidation_0-mlogloss:1.70606\tvalidation_1-mlogloss:1.83743\n",
      "[46]\tvalidation_0-mlogloss:1.7011\tvalidation_1-mlogloss:1.83498\n",
      "[47]\tvalidation_0-mlogloss:1.69579\tvalidation_1-mlogloss:1.83234\n",
      "[48]\tvalidation_0-mlogloss:1.69099\tvalidation_1-mlogloss:1.83032\n",
      "[49]\tvalidation_0-mlogloss:1.68627\tvalidation_1-mlogloss:1.82818\n",
      "[50]\tvalidation_0-mlogloss:1.6814\tvalidation_1-mlogloss:1.82526\n",
      "[51]\tvalidation_0-mlogloss:1.67655\tvalidation_1-mlogloss:1.82284\n",
      "[52]\tvalidation_0-mlogloss:1.67159\tvalidation_1-mlogloss:1.82017\n",
      "[53]\tvalidation_0-mlogloss:1.66721\tvalidation_1-mlogloss:1.81824\n",
      "[54]\tvalidation_0-mlogloss:1.66254\tvalidation_1-mlogloss:1.8164\n",
      "[55]\tvalidation_0-mlogloss:1.65821\tvalidation_1-mlogloss:1.81444\n",
      "[56]\tvalidation_0-mlogloss:1.65385\tvalidation_1-mlogloss:1.81289\n",
      "[57]\tvalidation_0-mlogloss:1.64919\tvalidation_1-mlogloss:1.81089\n",
      "[58]\tvalidation_0-mlogloss:1.64494\tvalidation_1-mlogloss:1.80884\n",
      "[59]\tvalidation_0-mlogloss:1.64025\tvalidation_1-mlogloss:1.80682\n",
      "[60]\tvalidation_0-mlogloss:1.63636\tvalidation_1-mlogloss:1.80491\n",
      "[61]\tvalidation_0-mlogloss:1.6321\tvalidation_1-mlogloss:1.80341\n",
      "[62]\tvalidation_0-mlogloss:1.62815\tvalidation_1-mlogloss:1.80174\n",
      "[63]\tvalidation_0-mlogloss:1.62408\tvalidation_1-mlogloss:1.80039\n",
      "[64]\tvalidation_0-mlogloss:1.62014\tvalidation_1-mlogloss:1.79872\n",
      "[65]\tvalidation_0-mlogloss:1.61599\tvalidation_1-mlogloss:1.79718\n",
      "[66]\tvalidation_0-mlogloss:1.6119\tvalidation_1-mlogloss:1.79572\n",
      "[67]\tvalidation_0-mlogloss:1.60827\tvalidation_1-mlogloss:1.79389\n",
      "[68]\tvalidation_0-mlogloss:1.6046\tvalidation_1-mlogloss:1.79261\n",
      "[69]\tvalidation_0-mlogloss:1.60059\tvalidation_1-mlogloss:1.79134\n",
      "[70]\tvalidation_0-mlogloss:1.59683\tvalidation_1-mlogloss:1.78986\n",
      "[71]\tvalidation_0-mlogloss:1.59326\tvalidation_1-mlogloss:1.78873\n",
      "[72]\tvalidation_0-mlogloss:1.58972\tvalidation_1-mlogloss:1.78735\n",
      "[73]\tvalidation_0-mlogloss:1.58608\tvalidation_1-mlogloss:1.7861\n",
      "[74]\tvalidation_0-mlogloss:1.58239\tvalidation_1-mlogloss:1.78465\n",
      "[75]\tvalidation_0-mlogloss:1.57885\tvalidation_1-mlogloss:1.78358\n",
      "[76]\tvalidation_0-mlogloss:1.57513\tvalidation_1-mlogloss:1.78243\n",
      "[77]\tvalidation_0-mlogloss:1.57158\tvalidation_1-mlogloss:1.78085\n",
      "[78]\tvalidation_0-mlogloss:1.56781\tvalidation_1-mlogloss:1.77931\n",
      "[79]\tvalidation_0-mlogloss:1.56456\tvalidation_1-mlogloss:1.77788\n",
      "[80]\tvalidation_0-mlogloss:1.56098\tvalidation_1-mlogloss:1.77698\n",
      "[81]\tvalidation_0-mlogloss:1.55766\tvalidation_1-mlogloss:1.77596\n",
      "[82]\tvalidation_0-mlogloss:1.55458\tvalidation_1-mlogloss:1.77496\n",
      "[83]\tvalidation_0-mlogloss:1.55151\tvalidation_1-mlogloss:1.77387\n",
      "[84]\tvalidation_0-mlogloss:1.54828\tvalidation_1-mlogloss:1.77296\n",
      "[85]\tvalidation_0-mlogloss:1.54494\tvalidation_1-mlogloss:1.77163\n",
      "[86]\tvalidation_0-mlogloss:1.54162\tvalidation_1-mlogloss:1.77036\n",
      "[87]\tvalidation_0-mlogloss:1.53813\tvalidation_1-mlogloss:1.76916\n",
      "[88]\tvalidation_0-mlogloss:1.53491\tvalidation_1-mlogloss:1.76795\n",
      "[89]\tvalidation_0-mlogloss:1.53169\tvalidation_1-mlogloss:1.7669\n",
      "[90]\tvalidation_0-mlogloss:1.52856\tvalidation_1-mlogloss:1.76616\n",
      "[91]\tvalidation_0-mlogloss:1.52535\tvalidation_1-mlogloss:1.76508\n",
      "[92]\tvalidation_0-mlogloss:1.52235\tvalidation_1-mlogloss:1.76393\n",
      "[93]\tvalidation_0-mlogloss:1.51907\tvalidation_1-mlogloss:1.7633\n",
      "[94]\tvalidation_0-mlogloss:1.51594\tvalidation_1-mlogloss:1.76221\n",
      "[95]\tvalidation_0-mlogloss:1.51281\tvalidation_1-mlogloss:1.76138\n",
      "[96]\tvalidation_0-mlogloss:1.50985\tvalidation_1-mlogloss:1.76041\n",
      "[97]\tvalidation_0-mlogloss:1.50685\tvalidation_1-mlogloss:1.75945\n",
      "[98]\tvalidation_0-mlogloss:1.50395\tvalidation_1-mlogloss:1.75852\n",
      "[99]\tvalidation_0-mlogloss:1.5008\tvalidation_1-mlogloss:1.75765\n",
      "[100]\tvalidation_0-mlogloss:1.49785\tvalidation_1-mlogloss:1.75672\n",
      "[101]\tvalidation_0-mlogloss:1.49486\tvalidation_1-mlogloss:1.75579\n",
      "[102]\tvalidation_0-mlogloss:1.49179\tvalidation_1-mlogloss:1.75481\n",
      "[103]\tvalidation_0-mlogloss:1.48862\tvalidation_1-mlogloss:1.75407\n",
      "[104]\tvalidation_0-mlogloss:1.48597\tvalidation_1-mlogloss:1.75308\n",
      "[105]\tvalidation_0-mlogloss:1.48298\tvalidation_1-mlogloss:1.75253\n",
      "[106]\tvalidation_0-mlogloss:1.48034\tvalidation_1-mlogloss:1.75181\n",
      "[107]\tvalidation_0-mlogloss:1.47765\tvalidation_1-mlogloss:1.75117\n",
      "[108]\tvalidation_0-mlogloss:1.47484\tvalidation_1-mlogloss:1.75049\n",
      "[109]\tvalidation_0-mlogloss:1.472\tvalidation_1-mlogloss:1.74961\n",
      "[110]\tvalidation_0-mlogloss:1.46927\tvalidation_1-mlogloss:1.74901\n",
      "[111]\tvalidation_0-mlogloss:1.4665\tvalidation_1-mlogloss:1.74856\n",
      "[112]\tvalidation_0-mlogloss:1.46412\tvalidation_1-mlogloss:1.74792\n",
      "[113]\tvalidation_0-mlogloss:1.46142\tvalidation_1-mlogloss:1.74723\n",
      "[114]\tvalidation_0-mlogloss:1.45857\tvalidation_1-mlogloss:1.74649\n",
      "[115]\tvalidation_0-mlogloss:1.45563\tvalidation_1-mlogloss:1.74546\n",
      "[116]\tvalidation_0-mlogloss:1.45278\tvalidation_1-mlogloss:1.74478\n",
      "[117]\tvalidation_0-mlogloss:1.45006\tvalidation_1-mlogloss:1.74372\n",
      "[118]\tvalidation_0-mlogloss:1.44732\tvalidation_1-mlogloss:1.74297\n",
      "[119]\tvalidation_0-mlogloss:1.44488\tvalidation_1-mlogloss:1.74259\n",
      "[120]\tvalidation_0-mlogloss:1.44241\tvalidation_1-mlogloss:1.74168\n",
      "[121]\tvalidation_0-mlogloss:1.43954\tvalidation_1-mlogloss:1.74076\n",
      "[122]\tvalidation_0-mlogloss:1.43703\tvalidation_1-mlogloss:1.74023\n",
      "[123]\tvalidation_0-mlogloss:1.43461\tvalidation_1-mlogloss:1.73997\n",
      "[124]\tvalidation_0-mlogloss:1.43219\tvalidation_1-mlogloss:1.73915\n",
      "[125]\tvalidation_0-mlogloss:1.42993\tvalidation_1-mlogloss:1.73867\n",
      "[126]\tvalidation_0-mlogloss:1.42721\tvalidation_1-mlogloss:1.73791\n",
      "[127]\tvalidation_0-mlogloss:1.4247\tvalidation_1-mlogloss:1.73716\n",
      "[128]\tvalidation_0-mlogloss:1.42231\tvalidation_1-mlogloss:1.73673\n",
      "[129]\tvalidation_0-mlogloss:1.4196\tvalidation_1-mlogloss:1.73624\n",
      "[130]\tvalidation_0-mlogloss:1.4172\tvalidation_1-mlogloss:1.7359\n",
      "[131]\tvalidation_0-mlogloss:1.41462\tvalidation_1-mlogloss:1.73548\n",
      "[132]\tvalidation_0-mlogloss:1.41225\tvalidation_1-mlogloss:1.73501\n",
      "[133]\tvalidation_0-mlogloss:1.40985\tvalidation_1-mlogloss:1.73463\n",
      "[134]\tvalidation_0-mlogloss:1.40745\tvalidation_1-mlogloss:1.73432\n",
      "[135]\tvalidation_0-mlogloss:1.40497\tvalidation_1-mlogloss:1.73381\n",
      "[136]\tvalidation_0-mlogloss:1.40237\tvalidation_1-mlogloss:1.73322\n",
      "[137]\tvalidation_0-mlogloss:1.40005\tvalidation_1-mlogloss:1.73276\n",
      "[138]\tvalidation_0-mlogloss:1.39765\tvalidation_1-mlogloss:1.73213\n",
      "[139]\tvalidation_0-mlogloss:1.39515\tvalidation_1-mlogloss:1.73169\n",
      "[140]\tvalidation_0-mlogloss:1.39288\tvalidation_1-mlogloss:1.7314\n",
      "[141]\tvalidation_0-mlogloss:1.39046\tvalidation_1-mlogloss:1.73106\n",
      "[142]\tvalidation_0-mlogloss:1.38801\tvalidation_1-mlogloss:1.73058\n",
      "[143]\tvalidation_0-mlogloss:1.38568\tvalidation_1-mlogloss:1.72972\n",
      "[144]\tvalidation_0-mlogloss:1.38329\tvalidation_1-mlogloss:1.7294\n",
      "[145]\tvalidation_0-mlogloss:1.38085\tvalidation_1-mlogloss:1.72877\n",
      "[146]\tvalidation_0-mlogloss:1.37883\tvalidation_1-mlogloss:1.7285\n",
      "[147]\tvalidation_0-mlogloss:1.37664\tvalidation_1-mlogloss:1.7281\n",
      "[148]\tvalidation_0-mlogloss:1.37444\tvalidation_1-mlogloss:1.72794\n",
      "[149]\tvalidation_0-mlogloss:1.37214\tvalidation_1-mlogloss:1.72757\n",
      "[150]\tvalidation_0-mlogloss:1.36968\tvalidation_1-mlogloss:1.72704\n",
      "[151]\tvalidation_0-mlogloss:1.36716\tvalidation_1-mlogloss:1.72604\n",
      "[152]\tvalidation_0-mlogloss:1.36514\tvalidation_1-mlogloss:1.72575\n",
      "[153]\tvalidation_0-mlogloss:1.36296\tvalidation_1-mlogloss:1.7255\n",
      "[154]\tvalidation_0-mlogloss:1.36063\tvalidation_1-mlogloss:1.72487\n",
      "[155]\tvalidation_0-mlogloss:1.35861\tvalidation_1-mlogloss:1.72476\n",
      "[156]\tvalidation_0-mlogloss:1.35616\tvalidation_1-mlogloss:1.72411\n",
      "[157]\tvalidation_0-mlogloss:1.35398\tvalidation_1-mlogloss:1.72378\n",
      "[158]\tvalidation_0-mlogloss:1.35162\tvalidation_1-mlogloss:1.72338\n",
      "[159]\tvalidation_0-mlogloss:1.34924\tvalidation_1-mlogloss:1.72301\n",
      "[160]\tvalidation_0-mlogloss:1.34704\tvalidation_1-mlogloss:1.72272\n",
      "[161]\tvalidation_0-mlogloss:1.34476\tvalidation_1-mlogloss:1.72239\n",
      "[162]\tvalidation_0-mlogloss:1.3427\tvalidation_1-mlogloss:1.7221\n",
      "[163]\tvalidation_0-mlogloss:1.34023\tvalidation_1-mlogloss:1.72141\n",
      "[164]\tvalidation_0-mlogloss:1.33793\tvalidation_1-mlogloss:1.72097\n",
      "[165]\tvalidation_0-mlogloss:1.3356\tvalidation_1-mlogloss:1.72057\n",
      "[166]\tvalidation_0-mlogloss:1.3335\tvalidation_1-mlogloss:1.72015\n",
      "[167]\tvalidation_0-mlogloss:1.33156\tvalidation_1-mlogloss:1.71965\n",
      "[168]\tvalidation_0-mlogloss:1.32961\tvalidation_1-mlogloss:1.71955\n",
      "[169]\tvalidation_0-mlogloss:1.32756\tvalidation_1-mlogloss:1.71922\n",
      "[170]\tvalidation_0-mlogloss:1.32553\tvalidation_1-mlogloss:1.71869\n",
      "[171]\tvalidation_0-mlogloss:1.32305\tvalidation_1-mlogloss:1.71778\n",
      "[172]\tvalidation_0-mlogloss:1.32112\tvalidation_1-mlogloss:1.71755\n",
      "[173]\tvalidation_0-mlogloss:1.31891\tvalidation_1-mlogloss:1.71725\n",
      "[174]\tvalidation_0-mlogloss:1.31681\tvalidation_1-mlogloss:1.71659\n",
      "[175]\tvalidation_0-mlogloss:1.31463\tvalidation_1-mlogloss:1.71646\n",
      "[176]\tvalidation_0-mlogloss:1.31224\tvalidation_1-mlogloss:1.71617\n",
      "[177]\tvalidation_0-mlogloss:1.31009\tvalidation_1-mlogloss:1.71561\n",
      "[178]\tvalidation_0-mlogloss:1.3079\tvalidation_1-mlogloss:1.7152\n",
      "[179]\tvalidation_0-mlogloss:1.30547\tvalidation_1-mlogloss:1.7151\n",
      "[180]\tvalidation_0-mlogloss:1.30348\tvalidation_1-mlogloss:1.71474\n",
      "[181]\tvalidation_0-mlogloss:1.30145\tvalidation_1-mlogloss:1.7141\n",
      "[182]\tvalidation_0-mlogloss:1.29925\tvalidation_1-mlogloss:1.71379\n",
      "[183]\tvalidation_0-mlogloss:1.29732\tvalidation_1-mlogloss:1.71339\n",
      "[184]\tvalidation_0-mlogloss:1.29555\tvalidation_1-mlogloss:1.71339\n",
      "[185]\tvalidation_0-mlogloss:1.2938\tvalidation_1-mlogloss:1.71312\n",
      "[186]\tvalidation_0-mlogloss:1.29185\tvalidation_1-mlogloss:1.71289\n",
      "[187]\tvalidation_0-mlogloss:1.28985\tvalidation_1-mlogloss:1.71264\n",
      "[188]\tvalidation_0-mlogloss:1.288\tvalidation_1-mlogloss:1.71245\n",
      "[189]\tvalidation_0-mlogloss:1.28593\tvalidation_1-mlogloss:1.71188\n",
      "[190]\tvalidation_0-mlogloss:1.2837\tvalidation_1-mlogloss:1.71163\n",
      "[191]\tvalidation_0-mlogloss:1.28182\tvalidation_1-mlogloss:1.71114\n",
      "[192]\tvalidation_0-mlogloss:1.27965\tvalidation_1-mlogloss:1.71063\n",
      "[193]\tvalidation_0-mlogloss:1.27763\tvalidation_1-mlogloss:1.71006\n",
      "[194]\tvalidation_0-mlogloss:1.27614\tvalidation_1-mlogloss:1.70997\n",
      "[195]\tvalidation_0-mlogloss:1.27442\tvalidation_1-mlogloss:1.70999\n",
      "[196]\tvalidation_0-mlogloss:1.27254\tvalidation_1-mlogloss:1.70972\n",
      "[197]\tvalidation_0-mlogloss:1.27046\tvalidation_1-mlogloss:1.70929\n",
      "[198]\tvalidation_0-mlogloss:1.26864\tvalidation_1-mlogloss:1.70915\n",
      "[199]\tvalidation_0-mlogloss:1.26655\tvalidation_1-mlogloss:1.70874\n",
      "[200]\tvalidation_0-mlogloss:1.2647\tvalidation_1-mlogloss:1.70851\n",
      "[201]\tvalidation_0-mlogloss:1.26248\tvalidation_1-mlogloss:1.70811\n",
      "[202]\tvalidation_0-mlogloss:1.26061\tvalidation_1-mlogloss:1.70784\n",
      "[203]\tvalidation_0-mlogloss:1.25858\tvalidation_1-mlogloss:1.70755\n",
      "[204]\tvalidation_0-mlogloss:1.25646\tvalidation_1-mlogloss:1.7068\n",
      "[205]\tvalidation_0-mlogloss:1.25439\tvalidation_1-mlogloss:1.70659\n",
      "[206]\tvalidation_0-mlogloss:1.2524\tvalidation_1-mlogloss:1.70644\n",
      "[207]\tvalidation_0-mlogloss:1.25065\tvalidation_1-mlogloss:1.70607\n",
      "[208]\tvalidation_0-mlogloss:1.24872\tvalidation_1-mlogloss:1.70583\n",
      "[209]\tvalidation_0-mlogloss:1.24703\tvalidation_1-mlogloss:1.70568\n",
      "[210]\tvalidation_0-mlogloss:1.2454\tvalidation_1-mlogloss:1.70565\n",
      "[211]\tvalidation_0-mlogloss:1.24359\tvalidation_1-mlogloss:1.70537\n",
      "[212]\tvalidation_0-mlogloss:1.24171\tvalidation_1-mlogloss:1.70523\n",
      "[213]\tvalidation_0-mlogloss:1.23982\tvalidation_1-mlogloss:1.70473\n",
      "[214]\tvalidation_0-mlogloss:1.23764\tvalidation_1-mlogloss:1.70452\n",
      "[215]\tvalidation_0-mlogloss:1.23575\tvalidation_1-mlogloss:1.70436\n",
      "[216]\tvalidation_0-mlogloss:1.23394\tvalidation_1-mlogloss:1.7043\n",
      "[217]\tvalidation_0-mlogloss:1.23217\tvalidation_1-mlogloss:1.70395\n",
      "[218]\tvalidation_0-mlogloss:1.23026\tvalidation_1-mlogloss:1.70383\n",
      "[219]\tvalidation_0-mlogloss:1.22845\tvalidation_1-mlogloss:1.70344\n",
      "[220]\tvalidation_0-mlogloss:1.22682\tvalidation_1-mlogloss:1.7032\n",
      "[221]\tvalidation_0-mlogloss:1.22505\tvalidation_1-mlogloss:1.70316\n",
      "[222]\tvalidation_0-mlogloss:1.22315\tvalidation_1-mlogloss:1.70314\n",
      "[223]\tvalidation_0-mlogloss:1.22122\tvalidation_1-mlogloss:1.703\n",
      "[224]\tvalidation_0-mlogloss:1.21945\tvalidation_1-mlogloss:1.7031\n",
      "[225]\tvalidation_0-mlogloss:1.21792\tvalidation_1-mlogloss:1.70284\n",
      "[226]\tvalidation_0-mlogloss:1.21623\tvalidation_1-mlogloss:1.70264\n",
      "[227]\tvalidation_0-mlogloss:1.21439\tvalidation_1-mlogloss:1.70266\n",
      "[228]\tvalidation_0-mlogloss:1.21266\tvalidation_1-mlogloss:1.70231\n",
      "[229]\tvalidation_0-mlogloss:1.21087\tvalidation_1-mlogloss:1.70196\n",
      "[230]\tvalidation_0-mlogloss:1.20922\tvalidation_1-mlogloss:1.70182\n",
      "[231]\tvalidation_0-mlogloss:1.20752\tvalidation_1-mlogloss:1.70164\n",
      "[232]\tvalidation_0-mlogloss:1.2057\tvalidation_1-mlogloss:1.70163\n",
      "[233]\tvalidation_0-mlogloss:1.20403\tvalidation_1-mlogloss:1.70157\n",
      "[234]\tvalidation_0-mlogloss:1.20235\tvalidation_1-mlogloss:1.70144\n",
      "[235]\tvalidation_0-mlogloss:1.20105\tvalidation_1-mlogloss:1.70135\n",
      "[236]\tvalidation_0-mlogloss:1.19938\tvalidation_1-mlogloss:1.70129\n",
      "[237]\tvalidation_0-mlogloss:1.19773\tvalidation_1-mlogloss:1.70125\n",
      "[238]\tvalidation_0-mlogloss:1.19623\tvalidation_1-mlogloss:1.70101\n",
      "[239]\tvalidation_0-mlogloss:1.19446\tvalidation_1-mlogloss:1.7008\n",
      "[240]\tvalidation_0-mlogloss:1.19254\tvalidation_1-mlogloss:1.70054\n",
      "[241]\tvalidation_0-mlogloss:1.19122\tvalidation_1-mlogloss:1.70048\n",
      "[242]\tvalidation_0-mlogloss:1.18977\tvalidation_1-mlogloss:1.70051\n",
      "[243]\tvalidation_0-mlogloss:1.18818\tvalidation_1-mlogloss:1.70022\n",
      "[244]\tvalidation_0-mlogloss:1.18654\tvalidation_1-mlogloss:1.69996\n",
      "[245]\tvalidation_0-mlogloss:1.18479\tvalidation_1-mlogloss:1.69949\n",
      "[246]\tvalidation_0-mlogloss:1.18316\tvalidation_1-mlogloss:1.69949\n",
      "[247]\tvalidation_0-mlogloss:1.18134\tvalidation_1-mlogloss:1.69907\n",
      "[248]\tvalidation_0-mlogloss:1.17956\tvalidation_1-mlogloss:1.69874\n",
      "[249]\tvalidation_0-mlogloss:1.17777\tvalidation_1-mlogloss:1.69853\n",
      "[250]\tvalidation_0-mlogloss:1.17613\tvalidation_1-mlogloss:1.69861\n",
      "[251]\tvalidation_0-mlogloss:1.17461\tvalidation_1-mlogloss:1.69853\n",
      "[252]\tvalidation_0-mlogloss:1.173\tvalidation_1-mlogloss:1.69821\n",
      "[253]\tvalidation_0-mlogloss:1.17141\tvalidation_1-mlogloss:1.6979\n",
      "[254]\tvalidation_0-mlogloss:1.16993\tvalidation_1-mlogloss:1.69746\n",
      "[255]\tvalidation_0-mlogloss:1.16843\tvalidation_1-mlogloss:1.6973\n",
      "[256]\tvalidation_0-mlogloss:1.1667\tvalidation_1-mlogloss:1.69703\n",
      "[257]\tvalidation_0-mlogloss:1.16523\tvalidation_1-mlogloss:1.69704\n",
      "[258]\tvalidation_0-mlogloss:1.16372\tvalidation_1-mlogloss:1.69682\n",
      "[259]\tvalidation_0-mlogloss:1.16191\tvalidation_1-mlogloss:1.69658\n",
      "[260]\tvalidation_0-mlogloss:1.1603\tvalidation_1-mlogloss:1.69633\n",
      "[261]\tvalidation_0-mlogloss:1.15864\tvalidation_1-mlogloss:1.69598\n",
      "[262]\tvalidation_0-mlogloss:1.15699\tvalidation_1-mlogloss:1.69565\n",
      "[263]\tvalidation_0-mlogloss:1.15529\tvalidation_1-mlogloss:1.69535\n",
      "[264]\tvalidation_0-mlogloss:1.15343\tvalidation_1-mlogloss:1.69495\n",
      "[265]\tvalidation_0-mlogloss:1.15174\tvalidation_1-mlogloss:1.69504\n",
      "[266]\tvalidation_0-mlogloss:1.15025\tvalidation_1-mlogloss:1.69497\n",
      "[267]\tvalidation_0-mlogloss:1.14889\tvalidation_1-mlogloss:1.69507\n",
      "[268]\tvalidation_0-mlogloss:1.14733\tvalidation_1-mlogloss:1.69498\n",
      "[269]\tvalidation_0-mlogloss:1.14571\tvalidation_1-mlogloss:1.69489\n",
      "[270]\tvalidation_0-mlogloss:1.14424\tvalidation_1-mlogloss:1.69485\n",
      "[271]\tvalidation_0-mlogloss:1.14273\tvalidation_1-mlogloss:1.69473\n",
      "[272]\tvalidation_0-mlogloss:1.14095\tvalidation_1-mlogloss:1.69467\n",
      "[273]\tvalidation_0-mlogloss:1.13935\tvalidation_1-mlogloss:1.69453\n",
      "[274]\tvalidation_0-mlogloss:1.13765\tvalidation_1-mlogloss:1.69452\n",
      "[275]\tvalidation_0-mlogloss:1.1362\tvalidation_1-mlogloss:1.69429\n",
      "[276]\tvalidation_0-mlogloss:1.1347\tvalidation_1-mlogloss:1.69413\n",
      "[277]\tvalidation_0-mlogloss:1.13309\tvalidation_1-mlogloss:1.69401\n",
      "[278]\tvalidation_0-mlogloss:1.13175\tvalidation_1-mlogloss:1.6939\n",
      "[279]\tvalidation_0-mlogloss:1.1304\tvalidation_1-mlogloss:1.69357\n",
      "[280]\tvalidation_0-mlogloss:1.12877\tvalidation_1-mlogloss:1.69371\n",
      "[281]\tvalidation_0-mlogloss:1.12745\tvalidation_1-mlogloss:1.69354\n",
      "[282]\tvalidation_0-mlogloss:1.12602\tvalidation_1-mlogloss:1.69349\n",
      "[283]\tvalidation_0-mlogloss:1.12462\tvalidation_1-mlogloss:1.69347\n",
      "[284]\tvalidation_0-mlogloss:1.12311\tvalidation_1-mlogloss:1.6935\n",
      "[285]\tvalidation_0-mlogloss:1.12153\tvalidation_1-mlogloss:1.69331\n",
      "[286]\tvalidation_0-mlogloss:1.12\tvalidation_1-mlogloss:1.6933\n",
      "[287]\tvalidation_0-mlogloss:1.11853\tvalidation_1-mlogloss:1.69295\n",
      "[288]\tvalidation_0-mlogloss:1.11704\tvalidation_1-mlogloss:1.69291\n",
      "[289]\tvalidation_0-mlogloss:1.11536\tvalidation_1-mlogloss:1.69288\n",
      "[290]\tvalidation_0-mlogloss:1.11384\tvalidation_1-mlogloss:1.69275\n",
      "[291]\tvalidation_0-mlogloss:1.11225\tvalidation_1-mlogloss:1.6927\n",
      "[292]\tvalidation_0-mlogloss:1.11082\tvalidation_1-mlogloss:1.6924\n",
      "[293]\tvalidation_0-mlogloss:1.10958\tvalidation_1-mlogloss:1.69236\n",
      "[294]\tvalidation_0-mlogloss:1.10818\tvalidation_1-mlogloss:1.69229\n",
      "[295]\tvalidation_0-mlogloss:1.1068\tvalidation_1-mlogloss:1.69216\n",
      "[296]\tvalidation_0-mlogloss:1.10535\tvalidation_1-mlogloss:1.69199\n",
      "[297]\tvalidation_0-mlogloss:1.10403\tvalidation_1-mlogloss:1.6917\n",
      "[298]\tvalidation_0-mlogloss:1.10277\tvalidation_1-mlogloss:1.69171\n",
      "[299]\tvalidation_0-mlogloss:1.10123\tvalidation_1-mlogloss:1.69163\n",
      "[300]\tvalidation_0-mlogloss:1.09968\tvalidation_1-mlogloss:1.69145\n",
      "[301]\tvalidation_0-mlogloss:1.09842\tvalidation_1-mlogloss:1.6913\n",
      "[302]\tvalidation_0-mlogloss:1.09696\tvalidation_1-mlogloss:1.6912\n",
      "[303]\tvalidation_0-mlogloss:1.09546\tvalidation_1-mlogloss:1.69112\n",
      "[304]\tvalidation_0-mlogloss:1.09405\tvalidation_1-mlogloss:1.69074\n",
      "[305]\tvalidation_0-mlogloss:1.09259\tvalidation_1-mlogloss:1.69042\n",
      "[306]\tvalidation_0-mlogloss:1.09129\tvalidation_1-mlogloss:1.69057\n",
      "[307]\tvalidation_0-mlogloss:1.08983\tvalidation_1-mlogloss:1.69046\n",
      "[308]\tvalidation_0-mlogloss:1.08848\tvalidation_1-mlogloss:1.69025\n",
      "[309]\tvalidation_0-mlogloss:1.08723\tvalidation_1-mlogloss:1.69024\n",
      "[310]\tvalidation_0-mlogloss:1.08593\tvalidation_1-mlogloss:1.69024\n",
      "[311]\tvalidation_0-mlogloss:1.08446\tvalidation_1-mlogloss:1.69032\n",
      "[312]\tvalidation_0-mlogloss:1.08302\tvalidation_1-mlogloss:1.69026\n",
      "[313]\tvalidation_0-mlogloss:1.08144\tvalidation_1-mlogloss:1.69021\n",
      "[314]\tvalidation_0-mlogloss:1.07989\tvalidation_1-mlogloss:1.69007\n",
      "[315]\tvalidation_0-mlogloss:1.07845\tvalidation_1-mlogloss:1.69008\n",
      "[316]\tvalidation_0-mlogloss:1.07687\tvalidation_1-mlogloss:1.69005\n",
      "[317]\tvalidation_0-mlogloss:1.0754\tvalidation_1-mlogloss:1.6901\n",
      "[318]\tvalidation_0-mlogloss:1.07425\tvalidation_1-mlogloss:1.68998\n",
      "[319]\tvalidation_0-mlogloss:1.07302\tvalidation_1-mlogloss:1.69015\n",
      "[320]\tvalidation_0-mlogloss:1.07168\tvalidation_1-mlogloss:1.69014\n",
      "[321]\tvalidation_0-mlogloss:1.07032\tvalidation_1-mlogloss:1.69005\n",
      "[322]\tvalidation_0-mlogloss:1.06889\tvalidation_1-mlogloss:1.68986\n",
      "[323]\tvalidation_0-mlogloss:1.06767\tvalidation_1-mlogloss:1.69004\n",
      "[324]\tvalidation_0-mlogloss:1.06623\tvalidation_1-mlogloss:1.69002\n",
      "[325]\tvalidation_0-mlogloss:1.06467\tvalidation_1-mlogloss:1.69002\n",
      "[326]\tvalidation_0-mlogloss:1.06317\tvalidation_1-mlogloss:1.68966\n",
      "[327]\tvalidation_0-mlogloss:1.06174\tvalidation_1-mlogloss:1.68974\n",
      "[328]\tvalidation_0-mlogloss:1.06035\tvalidation_1-mlogloss:1.68954\n",
      "[329]\tvalidation_0-mlogloss:1.05878\tvalidation_1-mlogloss:1.68931\n",
      "[330]\tvalidation_0-mlogloss:1.05725\tvalidation_1-mlogloss:1.68925\n",
      "[331]\tvalidation_0-mlogloss:1.05581\tvalidation_1-mlogloss:1.6892\n",
      "[332]\tvalidation_0-mlogloss:1.05448\tvalidation_1-mlogloss:1.68911\n",
      "[333]\tvalidation_0-mlogloss:1.05322\tvalidation_1-mlogloss:1.68909\n",
      "[334]\tvalidation_0-mlogloss:1.052\tvalidation_1-mlogloss:1.68892\n",
      "[335]\tvalidation_0-mlogloss:1.0509\tvalidation_1-mlogloss:1.68878\n",
      "[336]\tvalidation_0-mlogloss:1.04953\tvalidation_1-mlogloss:1.6885\n",
      "[337]\tvalidation_0-mlogloss:1.04803\tvalidation_1-mlogloss:1.68867\n",
      "[338]\tvalidation_0-mlogloss:1.04679\tvalidation_1-mlogloss:1.68865\n",
      "[339]\tvalidation_0-mlogloss:1.04537\tvalidation_1-mlogloss:1.68836\n",
      "[340]\tvalidation_0-mlogloss:1.04393\tvalidation_1-mlogloss:1.68814\n",
      "[341]\tvalidation_0-mlogloss:1.04252\tvalidation_1-mlogloss:1.68804\n",
      "[342]\tvalidation_0-mlogloss:1.04126\tvalidation_1-mlogloss:1.68805\n",
      "[343]\tvalidation_0-mlogloss:1.03982\tvalidation_1-mlogloss:1.68788\n",
      "[344]\tvalidation_0-mlogloss:1.03842\tvalidation_1-mlogloss:1.68801\n",
      "[345]\tvalidation_0-mlogloss:1.03713\tvalidation_1-mlogloss:1.68813\n",
      "[346]\tvalidation_0-mlogloss:1.03586\tvalidation_1-mlogloss:1.68809\n",
      "[347]\tvalidation_0-mlogloss:1.03451\tvalidation_1-mlogloss:1.6881\n",
      "[348]\tvalidation_0-mlogloss:1.03329\tvalidation_1-mlogloss:1.68781\n",
      "[349]\tvalidation_0-mlogloss:1.03202\tvalidation_1-mlogloss:1.68771\n",
      "[350]\tvalidation_0-mlogloss:1.03068\tvalidation_1-mlogloss:1.68739\n",
      "[351]\tvalidation_0-mlogloss:1.02942\tvalidation_1-mlogloss:1.68734\n",
      "[352]\tvalidation_0-mlogloss:1.02809\tvalidation_1-mlogloss:1.68714\n",
      "[353]\tvalidation_0-mlogloss:1.02695\tvalidation_1-mlogloss:1.68702\n",
      "[354]\tvalidation_0-mlogloss:1.02556\tvalidation_1-mlogloss:1.68683\n",
      "[355]\tvalidation_0-mlogloss:1.02448\tvalidation_1-mlogloss:1.68675\n",
      "[356]\tvalidation_0-mlogloss:1.02308\tvalidation_1-mlogloss:1.68651\n",
      "[357]\tvalidation_0-mlogloss:1.02182\tvalidation_1-mlogloss:1.68627\n",
      "[358]\tvalidation_0-mlogloss:1.02043\tvalidation_1-mlogloss:1.6863\n",
      "[359]\tvalidation_0-mlogloss:1.01925\tvalidation_1-mlogloss:1.68633\n",
      "[360]\tvalidation_0-mlogloss:1.01807\tvalidation_1-mlogloss:1.68631\n",
      "[361]\tvalidation_0-mlogloss:1.01693\tvalidation_1-mlogloss:1.68644\n",
      "[362]\tvalidation_0-mlogloss:1.01571\tvalidation_1-mlogloss:1.6863\n",
      "[363]\tvalidation_0-mlogloss:1.01428\tvalidation_1-mlogloss:1.68623\n",
      "[364]\tvalidation_0-mlogloss:1.01291\tvalidation_1-mlogloss:1.68613\n",
      "[365]\tvalidation_0-mlogloss:1.01155\tvalidation_1-mlogloss:1.68609\n",
      "[366]\tvalidation_0-mlogloss:1.01018\tvalidation_1-mlogloss:1.68587\n",
      "[367]\tvalidation_0-mlogloss:1.00874\tvalidation_1-mlogloss:1.68575\n",
      "[368]\tvalidation_0-mlogloss:1.00745\tvalidation_1-mlogloss:1.68577\n",
      "[369]\tvalidation_0-mlogloss:1.00613\tvalidation_1-mlogloss:1.68566\n",
      "[370]\tvalidation_0-mlogloss:1.00487\tvalidation_1-mlogloss:1.68578\n",
      "[371]\tvalidation_0-mlogloss:1.00357\tvalidation_1-mlogloss:1.68564\n",
      "[372]\tvalidation_0-mlogloss:1.00222\tvalidation_1-mlogloss:1.68555\n",
      "[373]\tvalidation_0-mlogloss:1.0011\tvalidation_1-mlogloss:1.68549\n",
      "[374]\tvalidation_0-mlogloss:0.999678\tvalidation_1-mlogloss:1.6855\n",
      "[375]\tvalidation_0-mlogloss:0.998424\tvalidation_1-mlogloss:1.68555\n",
      "[376]\tvalidation_0-mlogloss:0.997356\tvalidation_1-mlogloss:1.68565\n",
      "[377]\tvalidation_0-mlogloss:0.996014\tvalidation_1-mlogloss:1.68552\n",
      "[378]\tvalidation_0-mlogloss:0.994805\tvalidation_1-mlogloss:1.68545\n",
      "[379]\tvalidation_0-mlogloss:0.993621\tvalidation_1-mlogloss:1.68535\n",
      "[380]\tvalidation_0-mlogloss:0.992324\tvalidation_1-mlogloss:1.68528\n",
      "[381]\tvalidation_0-mlogloss:0.990859\tvalidation_1-mlogloss:1.68525\n",
      "[382]\tvalidation_0-mlogloss:0.989555\tvalidation_1-mlogloss:1.6851\n",
      "[383]\tvalidation_0-mlogloss:0.98828\tvalidation_1-mlogloss:1.68512\n",
      "[384]\tvalidation_0-mlogloss:0.986916\tvalidation_1-mlogloss:1.68513\n",
      "[385]\tvalidation_0-mlogloss:0.98571\tvalidation_1-mlogloss:1.68522\n",
      "[386]\tvalidation_0-mlogloss:0.984378\tvalidation_1-mlogloss:1.68504\n",
      "[387]\tvalidation_0-mlogloss:0.98301\tvalidation_1-mlogloss:1.68519\n",
      "[388]\tvalidation_0-mlogloss:0.981794\tvalidation_1-mlogloss:1.68507\n",
      "[389]\tvalidation_0-mlogloss:0.980554\tvalidation_1-mlogloss:1.68494\n",
      "[390]\tvalidation_0-mlogloss:0.979341\tvalidation_1-mlogloss:1.68476\n",
      "[391]\tvalidation_0-mlogloss:0.978265\tvalidation_1-mlogloss:1.68483\n",
      "[392]\tvalidation_0-mlogloss:0.977183\tvalidation_1-mlogloss:1.68494\n",
      "[393]\tvalidation_0-mlogloss:0.975884\tvalidation_1-mlogloss:1.6848\n",
      "[394]\tvalidation_0-mlogloss:0.974696\tvalidation_1-mlogloss:1.68469\n",
      "[395]\tvalidation_0-mlogloss:0.973396\tvalidation_1-mlogloss:1.68482\n",
      "[396]\tvalidation_0-mlogloss:0.972233\tvalidation_1-mlogloss:1.68464\n",
      "[397]\tvalidation_0-mlogloss:0.971035\tvalidation_1-mlogloss:1.68456\n",
      "[398]\tvalidation_0-mlogloss:0.969697\tvalidation_1-mlogloss:1.6844\n",
      "[399]\tvalidation_0-mlogloss:0.968341\tvalidation_1-mlogloss:1.68438\n",
      "[400]\tvalidation_0-mlogloss:0.967127\tvalidation_1-mlogloss:1.68445\n",
      "[401]\tvalidation_0-mlogloss:0.965876\tvalidation_1-mlogloss:1.68456\n",
      "[402]\tvalidation_0-mlogloss:0.964843\tvalidation_1-mlogloss:1.6844\n",
      "[403]\tvalidation_0-mlogloss:0.963722\tvalidation_1-mlogloss:1.68442\n",
      "[404]\tvalidation_0-mlogloss:0.962634\tvalidation_1-mlogloss:1.6844\n",
      "[405]\tvalidation_0-mlogloss:0.961414\tvalidation_1-mlogloss:1.68451\n",
      "[406]\tvalidation_0-mlogloss:0.960178\tvalidation_1-mlogloss:1.68456\n",
      "[407]\tvalidation_0-mlogloss:0.958784\tvalidation_1-mlogloss:1.68453\n",
      "[408]\tvalidation_0-mlogloss:0.957547\tvalidation_1-mlogloss:1.68444\n",
      "[409]\tvalidation_0-mlogloss:0.956308\tvalidation_1-mlogloss:1.6846\n",
      "[410]\tvalidation_0-mlogloss:0.955181\tvalidation_1-mlogloss:1.68435\n",
      "[411]\tvalidation_0-mlogloss:0.954304\tvalidation_1-mlogloss:1.68453\n",
      "[412]\tvalidation_0-mlogloss:0.953217\tvalidation_1-mlogloss:1.6846\n",
      "[413]\tvalidation_0-mlogloss:0.952132\tvalidation_1-mlogloss:1.68465\n",
      "[414]\tvalidation_0-mlogloss:0.951087\tvalidation_1-mlogloss:1.68453\n",
      "[415]\tvalidation_0-mlogloss:0.950089\tvalidation_1-mlogloss:1.68451\n",
      "[416]\tvalidation_0-mlogloss:0.948982\tvalidation_1-mlogloss:1.68462\n",
      "[417]\tvalidation_0-mlogloss:0.947962\tvalidation_1-mlogloss:1.68444\n",
      "[418]\tvalidation_0-mlogloss:0.94664\tvalidation_1-mlogloss:1.68433\n",
      "[419]\tvalidation_0-mlogloss:0.945427\tvalidation_1-mlogloss:1.68437\n",
      "[420]\tvalidation_0-mlogloss:0.944293\tvalidation_1-mlogloss:1.68429\n",
      "[421]\tvalidation_0-mlogloss:0.943178\tvalidation_1-mlogloss:1.68439\n",
      "[422]\tvalidation_0-mlogloss:0.942121\tvalidation_1-mlogloss:1.68462\n",
      "[423]\tvalidation_0-mlogloss:0.940885\tvalidation_1-mlogloss:1.6846\n",
      "[424]\tvalidation_0-mlogloss:0.93972\tvalidation_1-mlogloss:1.68462\n",
      "[425]\tvalidation_0-mlogloss:0.938672\tvalidation_1-mlogloss:1.68454\n",
      "[426]\tvalidation_0-mlogloss:0.937784\tvalidation_1-mlogloss:1.68454\n",
      "[427]\tvalidation_0-mlogloss:0.936748\tvalidation_1-mlogloss:1.68473\n",
      "[428]\tvalidation_0-mlogloss:0.93564\tvalidation_1-mlogloss:1.68474\n",
      "[429]\tvalidation_0-mlogloss:0.934437\tvalidation_1-mlogloss:1.68495\n",
      "[430]\tvalidation_0-mlogloss:0.933363\tvalidation_1-mlogloss:1.68483\n",
      "[431]\tvalidation_0-mlogloss:0.932023\tvalidation_1-mlogloss:1.68474\n",
      "[432]\tvalidation_0-mlogloss:0.930925\tvalidation_1-mlogloss:1.68474\n",
      "[433]\tvalidation_0-mlogloss:0.929836\tvalidation_1-mlogloss:1.68478\n",
      "[434]\tvalidation_0-mlogloss:0.928636\tvalidation_1-mlogloss:1.68469\n",
      "[435]\tvalidation_0-mlogloss:0.927466\tvalidation_1-mlogloss:1.68484\n",
      "[436]\tvalidation_0-mlogloss:0.926188\tvalidation_1-mlogloss:1.68505\n",
      "[437]\tvalidation_0-mlogloss:0.925221\tvalidation_1-mlogloss:1.6851\n",
      "[438]\tvalidation_0-mlogloss:0.924134\tvalidation_1-mlogloss:1.68521\n",
      "[439]\tvalidation_0-mlogloss:0.923046\tvalidation_1-mlogloss:1.68518\n",
      "[440]\tvalidation_0-mlogloss:0.921916\tvalidation_1-mlogloss:1.68505\n",
      "[441]\tvalidation_0-mlogloss:0.920919\tvalidation_1-mlogloss:1.68506\n",
      "[442]\tvalidation_0-mlogloss:0.919732\tvalidation_1-mlogloss:1.68506\n",
      "[443]\tvalidation_0-mlogloss:0.918593\tvalidation_1-mlogloss:1.68519\n",
      "[444]\tvalidation_0-mlogloss:0.917256\tvalidation_1-mlogloss:1.68522\n",
      "[445]\tvalidation_0-mlogloss:0.915983\tvalidation_1-mlogloss:1.68539\n",
      "[446]\tvalidation_0-mlogloss:0.914855\tvalidation_1-mlogloss:1.68531\n",
      "[447]\tvalidation_0-mlogloss:0.913696\tvalidation_1-mlogloss:1.68528\n",
      "[448]\tvalidation_0-mlogloss:0.912546\tvalidation_1-mlogloss:1.68527\n",
      "[449]\tvalidation_0-mlogloss:0.911288\tvalidation_1-mlogloss:1.68529\n",
      "[450]\tvalidation_0-mlogloss:0.910143\tvalidation_1-mlogloss:1.68513\n",
      "[451]\tvalidation_0-mlogloss:0.909018\tvalidation_1-mlogloss:1.68502\n",
      "[452]\tvalidation_0-mlogloss:0.907969\tvalidation_1-mlogloss:1.68508\n",
      "[453]\tvalidation_0-mlogloss:0.906904\tvalidation_1-mlogloss:1.68508\n",
      "[454]\tvalidation_0-mlogloss:0.905754\tvalidation_1-mlogloss:1.68498\n",
      "[455]\tvalidation_0-mlogloss:0.904843\tvalidation_1-mlogloss:1.68491\n",
      "[456]\tvalidation_0-mlogloss:0.903638\tvalidation_1-mlogloss:1.68497\n",
      "[457]\tvalidation_0-mlogloss:0.902458\tvalidation_1-mlogloss:1.68525\n",
      "[458]\tvalidation_0-mlogloss:0.901491\tvalidation_1-mlogloss:1.68535\n",
      "[459]\tvalidation_0-mlogloss:0.900533\tvalidation_1-mlogloss:1.6855\n",
      "[460]\tvalidation_0-mlogloss:0.899767\tvalidation_1-mlogloss:1.68566\n",
      "[461]\tvalidation_0-mlogloss:0.898851\tvalidation_1-mlogloss:1.68578\n",
      "[462]\tvalidation_0-mlogloss:0.897661\tvalidation_1-mlogloss:1.68593\n",
      "[463]\tvalidation_0-mlogloss:0.896479\tvalidation_1-mlogloss:1.68587\n",
      "[464]\tvalidation_0-mlogloss:0.895495\tvalidation_1-mlogloss:1.68607\n",
      "[465]\tvalidation_0-mlogloss:0.894423\tvalidation_1-mlogloss:1.68615\n",
      "[466]\tvalidation_0-mlogloss:0.89325\tvalidation_1-mlogloss:1.68613\n",
      "[467]\tvalidation_0-mlogloss:0.892082\tvalidation_1-mlogloss:1.68605\n",
      "[468]\tvalidation_0-mlogloss:0.891076\tvalidation_1-mlogloss:1.68578\n",
      "[469]\tvalidation_0-mlogloss:0.890265\tvalidation_1-mlogloss:1.686\n",
      "[470]\tvalidation_0-mlogloss:0.889063\tvalidation_1-mlogloss:1.68602\n",
      "[471]\tvalidation_0-mlogloss:0.887818\tvalidation_1-mlogloss:1.68589\n",
      "[472]\tvalidation_0-mlogloss:0.886788\tvalidation_1-mlogloss:1.68579\n",
      "[473]\tvalidation_0-mlogloss:0.885543\tvalidation_1-mlogloss:1.68548\n",
      "[474]\tvalidation_0-mlogloss:0.884381\tvalidation_1-mlogloss:1.6855\n",
      "[475]\tvalidation_0-mlogloss:0.883301\tvalidation_1-mlogloss:1.68563\n",
      "[476]\tvalidation_0-mlogloss:0.882434\tvalidation_1-mlogloss:1.6858\n",
      "[477]\tvalidation_0-mlogloss:0.881385\tvalidation_1-mlogloss:1.68582\n",
      "[478]\tvalidation_0-mlogloss:0.88028\tvalidation_1-mlogloss:1.68594\n",
      "[479]\tvalidation_0-mlogloss:0.879144\tvalidation_1-mlogloss:1.68586\n",
      "[480]\tvalidation_0-mlogloss:0.87811\tvalidation_1-mlogloss:1.68593\n",
      "[481]\tvalidation_0-mlogloss:0.876983\tvalidation_1-mlogloss:1.68598\n",
      "[482]\tvalidation_0-mlogloss:0.875993\tvalidation_1-mlogloss:1.68606\n",
      "[483]\tvalidation_0-mlogloss:0.874871\tvalidation_1-mlogloss:1.68615\n",
      "[484]\tvalidation_0-mlogloss:0.873967\tvalidation_1-mlogloss:1.68626\n",
      "[485]\tvalidation_0-mlogloss:0.872942\tvalidation_1-mlogloss:1.68627\n",
      "[486]\tvalidation_0-mlogloss:0.871866\tvalidation_1-mlogloss:1.68626\n",
      "[487]\tvalidation_0-mlogloss:0.870837\tvalidation_1-mlogloss:1.68628\n",
      "[488]\tvalidation_0-mlogloss:0.869697\tvalidation_1-mlogloss:1.68608\n",
      "[489]\tvalidation_0-mlogloss:0.868562\tvalidation_1-mlogloss:1.68615\n",
      "[490]\tvalidation_0-mlogloss:0.867373\tvalidation_1-mlogloss:1.68614\n",
      "[491]\tvalidation_0-mlogloss:0.866481\tvalidation_1-mlogloss:1.68622\n",
      "[492]\tvalidation_0-mlogloss:0.865325\tvalidation_1-mlogloss:1.6862\n",
      "[493]\tvalidation_0-mlogloss:0.864208\tvalidation_1-mlogloss:1.68615\n",
      "[494]\tvalidation_0-mlogloss:0.863285\tvalidation_1-mlogloss:1.68613\n",
      "[495]\tvalidation_0-mlogloss:0.862181\tvalidation_1-mlogloss:1.68609\n",
      "[496]\tvalidation_0-mlogloss:0.861138\tvalidation_1-mlogloss:1.68611\n",
      "[497]\tvalidation_0-mlogloss:0.860128\tvalidation_1-mlogloss:1.68609\n",
      "[498]\tvalidation_0-mlogloss:0.85934\tvalidation_1-mlogloss:1.68592\n",
      "[499]\tvalidation_0-mlogloss:0.858522\tvalidation_1-mlogloss:1.6859\n",
      "[500]\tvalidation_0-mlogloss:0.857844\tvalidation_1-mlogloss:1.68596\n",
      "[501]\tvalidation_0-mlogloss:0.856826\tvalidation_1-mlogloss:1.68597\n",
      "[502]\tvalidation_0-mlogloss:0.855709\tvalidation_1-mlogloss:1.68599\n",
      "[503]\tvalidation_0-mlogloss:0.854572\tvalidation_1-mlogloss:1.68585\n",
      "[504]\tvalidation_0-mlogloss:0.853461\tvalidation_1-mlogloss:1.68577\n",
      "[505]\tvalidation_0-mlogloss:0.852352\tvalidation_1-mlogloss:1.68574\n",
      "[506]\tvalidation_0-mlogloss:0.851177\tvalidation_1-mlogloss:1.68564\n",
      "[507]\tvalidation_0-mlogloss:0.85008\tvalidation_1-mlogloss:1.68603\n",
      "[508]\tvalidation_0-mlogloss:0.849058\tvalidation_1-mlogloss:1.68603\n",
      "[509]\tvalidation_0-mlogloss:0.848098\tvalidation_1-mlogloss:1.686\n",
      "[510]\tvalidation_0-mlogloss:0.847091\tvalidation_1-mlogloss:1.68613\n",
      "[511]\tvalidation_0-mlogloss:0.846069\tvalidation_1-mlogloss:1.68605\n",
      "[512]\tvalidation_0-mlogloss:0.845031\tvalidation_1-mlogloss:1.68597\n",
      "[513]\tvalidation_0-mlogloss:0.84395\tvalidation_1-mlogloss:1.68608\n",
      "[514]\tvalidation_0-mlogloss:0.842847\tvalidation_1-mlogloss:1.68589\n",
      "[515]\tvalidation_0-mlogloss:0.841955\tvalidation_1-mlogloss:1.68604\n",
      "[516]\tvalidation_0-mlogloss:0.841003\tvalidation_1-mlogloss:1.68605\n",
      "[517]\tvalidation_0-mlogloss:0.840163\tvalidation_1-mlogloss:1.68605\n",
      "[518]\tvalidation_0-mlogloss:0.839191\tvalidation_1-mlogloss:1.68638\n",
      "[519]\tvalidation_0-mlogloss:0.838228\tvalidation_1-mlogloss:1.68637\n",
      "[520]\tvalidation_0-mlogloss:0.837319\tvalidation_1-mlogloss:1.68636\n",
      "[521]\tvalidation_0-mlogloss:0.836386\tvalidation_1-mlogloss:1.68646\n",
      "[522]\tvalidation_0-mlogloss:0.835322\tvalidation_1-mlogloss:1.68625\n",
      "[523]\tvalidation_0-mlogloss:0.834411\tvalidation_1-mlogloss:1.68649\n",
      "[524]\tvalidation_0-mlogloss:0.833231\tvalidation_1-mlogloss:1.68663\n",
      "[525]\tvalidation_0-mlogloss:0.832218\tvalidation_1-mlogloss:1.68672\n",
      "[526]\tvalidation_0-mlogloss:0.831063\tvalidation_1-mlogloss:1.68688\n",
      "[527]\tvalidation_0-mlogloss:0.83011\tvalidation_1-mlogloss:1.68693\n",
      "[528]\tvalidation_0-mlogloss:0.829143\tvalidation_1-mlogloss:1.68685\n",
      "[529]\tvalidation_0-mlogloss:0.828126\tvalidation_1-mlogloss:1.68688\n",
      "[530]\tvalidation_0-mlogloss:0.827103\tvalidation_1-mlogloss:1.687\n",
      "[531]\tvalidation_0-mlogloss:0.826232\tvalidation_1-mlogloss:1.68679\n",
      "[532]\tvalidation_0-mlogloss:0.825159\tvalidation_1-mlogloss:1.68681\n",
      "[533]\tvalidation_0-mlogloss:0.824139\tvalidation_1-mlogloss:1.68688\n",
      "[534]\tvalidation_0-mlogloss:0.823169\tvalidation_1-mlogloss:1.68705\n",
      "[535]\tvalidation_0-mlogloss:0.822394\tvalidation_1-mlogloss:1.687\n",
      "[536]\tvalidation_0-mlogloss:0.821523\tvalidation_1-mlogloss:1.68713\n",
      "[537]\tvalidation_0-mlogloss:0.820566\tvalidation_1-mlogloss:1.68731\n",
      "[538]\tvalidation_0-mlogloss:0.819533\tvalidation_1-mlogloss:1.68734\n",
      "[539]\tvalidation_0-mlogloss:0.818549\tvalidation_1-mlogloss:1.68731\n",
      "[540]\tvalidation_0-mlogloss:0.817688\tvalidation_1-mlogloss:1.68739\n",
      "[541]\tvalidation_0-mlogloss:0.816926\tvalidation_1-mlogloss:1.68751\n",
      "[542]\tvalidation_0-mlogloss:0.815958\tvalidation_1-mlogloss:1.68742\n",
      "[543]\tvalidation_0-mlogloss:0.814933\tvalidation_1-mlogloss:1.68767\n",
      "[544]\tvalidation_0-mlogloss:0.813876\tvalidation_1-mlogloss:1.6876\n",
      "[545]\tvalidation_0-mlogloss:0.812824\tvalidation_1-mlogloss:1.68766\n",
      "[546]\tvalidation_0-mlogloss:0.811872\tvalidation_1-mlogloss:1.6877\n",
      "[547]\tvalidation_0-mlogloss:0.810934\tvalidation_1-mlogloss:1.68764\n",
      "[548]\tvalidation_0-mlogloss:0.809805\tvalidation_1-mlogloss:1.68779\n",
      "[549]\tvalidation_0-mlogloss:0.808921\tvalidation_1-mlogloss:1.688\n",
      "[550]\tvalidation_0-mlogloss:0.80806\tvalidation_1-mlogloss:1.68803\n",
      "[551]\tvalidation_0-mlogloss:0.807321\tvalidation_1-mlogloss:1.68826\n",
      "[552]\tvalidation_0-mlogloss:0.806515\tvalidation_1-mlogloss:1.68816\n",
      "[553]\tvalidation_0-mlogloss:0.80572\tvalidation_1-mlogloss:1.68817\n",
      "[554]\tvalidation_0-mlogloss:0.80477\tvalidation_1-mlogloss:1.68812\n",
      "[555]\tvalidation_0-mlogloss:0.803792\tvalidation_1-mlogloss:1.68804\n",
      "[556]\tvalidation_0-mlogloss:0.802877\tvalidation_1-mlogloss:1.68803\n",
      "[557]\tvalidation_0-mlogloss:0.802021\tvalidation_1-mlogloss:1.6882\n",
      "[558]\tvalidation_0-mlogloss:0.800959\tvalidation_1-mlogloss:1.68848\n",
      "[559]\tvalidation_0-mlogloss:0.79997\tvalidation_1-mlogloss:1.68839\n",
      "[560]\tvalidation_0-mlogloss:0.799023\tvalidation_1-mlogloss:1.68831\n",
      "[561]\tvalidation_0-mlogloss:0.798122\tvalidation_1-mlogloss:1.68827\n",
      "[562]\tvalidation_0-mlogloss:0.797254\tvalidation_1-mlogloss:1.68826\n",
      "[563]\tvalidation_0-mlogloss:0.796251\tvalidation_1-mlogloss:1.68838\n",
      "[564]\tvalidation_0-mlogloss:0.795212\tvalidation_1-mlogloss:1.68826\n",
      "[565]\tvalidation_0-mlogloss:0.79425\tvalidation_1-mlogloss:1.68844\n",
      "[566]\tvalidation_0-mlogloss:0.793411\tvalidation_1-mlogloss:1.68844\n",
      "[567]\tvalidation_0-mlogloss:0.792593\tvalidation_1-mlogloss:1.68843\n",
      "[568]\tvalidation_0-mlogloss:0.791802\tvalidation_1-mlogloss:1.6886\n",
      "[569]\tvalidation_0-mlogloss:0.790825\tvalidation_1-mlogloss:1.68844\n",
      "[570]\tvalidation_0-mlogloss:0.789953\tvalidation_1-mlogloss:1.68869\n",
      "[571]\tvalidation_0-mlogloss:0.789054\tvalidation_1-mlogloss:1.68853\n",
      "[572]\tvalidation_0-mlogloss:0.788068\tvalidation_1-mlogloss:1.68832\n",
      "[573]\tvalidation_0-mlogloss:0.787165\tvalidation_1-mlogloss:1.68831\n",
      "[574]\tvalidation_0-mlogloss:0.786176\tvalidation_1-mlogloss:1.68826\n",
      "[575]\tvalidation_0-mlogloss:0.785196\tvalidation_1-mlogloss:1.68823\n",
      "[576]\tvalidation_0-mlogloss:0.784126\tvalidation_1-mlogloss:1.68794\n",
      "[577]\tvalidation_0-mlogloss:0.78308\tvalidation_1-mlogloss:1.68825\n",
      "[578]\tvalidation_0-mlogloss:0.782096\tvalidation_1-mlogloss:1.68821\n",
      "[579]\tvalidation_0-mlogloss:0.781031\tvalidation_1-mlogloss:1.68843\n",
      "[580]\tvalidation_0-mlogloss:0.780049\tvalidation_1-mlogloss:1.68833\n",
      "[581]\tvalidation_0-mlogloss:0.779377\tvalidation_1-mlogloss:1.68832\n",
      "[582]\tvalidation_0-mlogloss:0.778354\tvalidation_1-mlogloss:1.68834\n",
      "[583]\tvalidation_0-mlogloss:0.777552\tvalidation_1-mlogloss:1.68841\n"
     ]
    }
   ],
   "source": [
    "xgbc.fit(X_train, y_train, eval_set=[(X_train, y_train), (X_test, y_test)], eval_metric='mlogloss', verbose=True)"
   ]
  },
  {
   "cell_type": "code",
   "execution_count": 14,
   "metadata": {
    "collapsed": false
   },
   "outputs": [
    {
     "data": {
      "text/plain": [
       "['models/gbc_xgb.pkl']"
      ]
     },
     "execution_count": 14,
     "metadata": {},
     "output_type": "execute_result"
    }
   ],
   "source": [
    "joblib.dump(xgbc, 'models/gbc_xgb.pkl') "
   ]
  },
  {
   "cell_type": "code",
   "execution_count": null,
   "metadata": {
    "collapsed": true
   },
   "outputs": [],
   "source": []
  }
 ],
 "metadata": {
  "kernelspec": {
   "display_name": "Python 2",
   "language": "python",
   "name": "python2"
  },
  "language_info": {
   "codemirror_mode": {
    "name": "ipython",
    "version": 2
   },
   "file_extension": ".py",
   "mimetype": "text/x-python",
   "name": "python",
   "nbconvert_exporter": "python",
   "pygments_lexer": "ipython2",
   "version": "2.7.13"
  }
 },
 "nbformat": 4,
 "nbformat_minor": 2
}
