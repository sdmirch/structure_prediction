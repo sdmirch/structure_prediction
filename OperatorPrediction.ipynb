{
 "cells": [
  {
   "cell_type": "code",
   "execution_count": 1,
   "metadata": {
    "collapsed": true
   },
   "outputs": [],
   "source": [
    "import pandas as pd\n",
    "import numpy as np\n",
    "import matplotlib.pyplot as plt\n",
    "from collections import Counter\n",
    "\n",
    "from sklearn.externals import joblib\n",
    "from sklearn.preprocessing import StandardScaler\n",
    "from sklearn.ensemble import RandomForestClassifier\n",
    "\n",
    "\n",
    "%matplotlib inline\n",
    "\n",
    "from utils.clean_utils import reduce_dataframe"
   ]
  },
  {
   "cell_type": "markdown",
   "metadata": {},
   "source": [
    "# Read Data"
   ]
  },
  {
   "cell_type": "code",
   "execution_count": 2,
   "metadata": {
    "collapsed": false
   },
   "outputs": [
    {
     "name": "stderr",
     "output_type": "stream",
     "text": [
      "/Users/seramirchandani/anaconda2/lib/python2.7/site-packages/IPython/core/interactiveshell.py:2717: DtypeWarning: Columns (8,24,29,30,32) have mixed types. Specify dtype option on import or set low_memory=False.\n",
      "  interactivity=interactivity, compiler=compiler, result=result)\n"
     ]
    }
   ],
   "source": [
    "df_raw = pd.read_csv('data/feats_out.csv')"
   ]
  },
  {
   "cell_type": "code",
   "execution_count": 3,
   "metadata": {
    "collapsed": true
   },
   "outputs": [],
   "source": [
    "columns = df_raw.columns"
   ]
  },
  {
   "cell_type": "code",
   "execution_count": 33,
   "metadata": {
    "collapsed": false
   },
   "outputs": [
    {
     "data": {
      "text/html": [
       "<div>\n",
       "<style>\n",
       "    .dataframe thead tr:only-child th {\n",
       "        text-align: right;\n",
       "    }\n",
       "\n",
       "    .dataframe thead th {\n",
       "        text-align: left;\n",
       "    }\n",
       "\n",
       "    .dataframe tbody tr th {\n",
       "        vertical-align: top;\n",
       "    }\n",
       "</style>\n",
       "<table border=\"1\" class=\"dataframe\">\n",
       "  <thead>\n",
       "    <tr style=\"text-align: right;\">\n",
       "      <th></th>\n",
       "      <th>DeliveryDate</th>\n",
       "      <th>FinalScore</th>\n",
       "      <th>Index</th>\n",
       "      <th>SegmentationXyPixelSize</th>\n",
       "      <th>SegmentationZPixelSize</th>\n",
       "      <th>Version</th>\n",
       "      <th>backgroundSubtractionFoldername</th>\n",
       "      <th>cell_line_ID</th>\n",
       "      <th>colony_position</th>\n",
       "      <th>imageXyPixelSize</th>\n",
       "      <th>imageZPixelSize</th>\n",
       "      <th>inputFilename</th>\n",
       "      <th>inputFolder</th>\n",
       "      <th>lightChannel</th>\n",
       "      <th>memChannel</th>\n",
       "      <th>mitoticLabel</th>\n",
       "      <th>nucChannel</th>\n",
       "      <th>outputCellSegWholeFilename</th>\n",
       "      <th>outputCellSegWholeSegScaleFilename</th>\n",
       "      <th>outputNucSegWholeFilename</th>\n",
       "    </tr>\n",
       "  </thead>\n",
       "  <tbody>\n",
       "    <tr>\n",
       "      <th>0</th>\n",
       "      <td>2017_02_10</td>\n",
       "      <td>1</td>\n",
       "      <td>1.0</td>\n",
       "      <td>0.065</td>\n",
       "      <td>0.29</td>\n",
       "      <td>3.0</td>\n",
       "      <td>NaN</td>\n",
       "      <td>NaN</td>\n",
       "      <td>NaN</td>\n",
       "      <td>0.065</td>\n",
       "      <td>0.29</td>\n",
       "      <td>20160908_C02_001_03.czi</td>\n",
       "      <td>//allen/aics/assay-dev/MicroscopyOtherData/Liy...</td>\n",
       "      <td>4.0</td>\n",
       "      <td>1.0</td>\n",
       "      <td>-1.0</td>\n",
       "      <td>3.0</td>\n",
       "      <td>20160908_C02_001_03.czi_cellWholeIndex.tiff</td>\n",
       "      <td>20160908_C02_001_03.czi_cellWholeIndex.tiff</td>\n",
       "      <td>20160908_C02_001_03.czi_nucWholeIndex.tiff</td>\n",
       "    </tr>\n",
       "    <tr>\n",
       "      <th>1</th>\n",
       "      <td>2017_02_10</td>\n",
       "      <td>1</td>\n",
       "      <td>1.0</td>\n",
       "      <td>0.065</td>\n",
       "      <td>0.29</td>\n",
       "      <td>3.0</td>\n",
       "      <td>NaN</td>\n",
       "      <td>NaN</td>\n",
       "      <td>NaN</td>\n",
       "      <td>0.065</td>\n",
       "      <td>0.29</td>\n",
       "      <td>20160908_C02_001_03.czi</td>\n",
       "      <td>//allen/aics/assay-dev/MicroscopyOtherData/Liy...</td>\n",
       "      <td>4.0</td>\n",
       "      <td>1.0</td>\n",
       "      <td>-1.0</td>\n",
       "      <td>3.0</td>\n",
       "      <td>20160908_C02_001_03.czi_cellWholeIndex.tiff</td>\n",
       "      <td>20160908_C02_001_03.czi_cellWholeIndex.tiff</td>\n",
       "      <td>20160908_C02_001_03.czi_nucWholeIndex.tiff</td>\n",
       "    </tr>\n",
       "    <tr>\n",
       "      <th>2</th>\n",
       "      <td>2017_02_10</td>\n",
       "      <td>1</td>\n",
       "      <td>1.0</td>\n",
       "      <td>0.065</td>\n",
       "      <td>0.29</td>\n",
       "      <td>3.0</td>\n",
       "      <td>NaN</td>\n",
       "      <td>NaN</td>\n",
       "      <td>NaN</td>\n",
       "      <td>0.065</td>\n",
       "      <td>0.29</td>\n",
       "      <td>20160908_C02_001_03.czi</td>\n",
       "      <td>//allen/aics/assay-dev/MicroscopyOtherData/Liy...</td>\n",
       "      <td>4.0</td>\n",
       "      <td>1.0</td>\n",
       "      <td>-1.0</td>\n",
       "      <td>3.0</td>\n",
       "      <td>20160908_C02_001_03.czi_cellWholeIndex.tiff</td>\n",
       "      <td>20160908_C02_001_03.czi_cellWholeIndex.tiff</td>\n",
       "      <td>20160908_C02_001_03.czi_nucWholeIndex.tiff</td>\n",
       "    </tr>\n",
       "    <tr>\n",
       "      <th>3</th>\n",
       "      <td>2017_02_10</td>\n",
       "      <td>1</td>\n",
       "      <td>1.0</td>\n",
       "      <td>0.065</td>\n",
       "      <td>0.29</td>\n",
       "      <td>3.0</td>\n",
       "      <td>NaN</td>\n",
       "      <td>NaN</td>\n",
       "      <td>NaN</td>\n",
       "      <td>0.065</td>\n",
       "      <td>0.29</td>\n",
       "      <td>20160908_C02_001_03.czi</td>\n",
       "      <td>//allen/aics/assay-dev/MicroscopyOtherData/Liy...</td>\n",
       "      <td>4.0</td>\n",
       "      <td>1.0</td>\n",
       "      <td>-1.0</td>\n",
       "      <td>3.0</td>\n",
       "      <td>20160908_C02_001_03.czi_cellWholeIndex.tiff</td>\n",
       "      <td>20160908_C02_001_03.czi_cellWholeIndex.tiff</td>\n",
       "      <td>20160908_C02_001_03.czi_nucWholeIndex.tiff</td>\n",
       "    </tr>\n",
       "    <tr>\n",
       "      <th>4</th>\n",
       "      <td>2017_02_10</td>\n",
       "      <td>1</td>\n",
       "      <td>1.0</td>\n",
       "      <td>0.065</td>\n",
       "      <td>0.29</td>\n",
       "      <td>3.0</td>\n",
       "      <td>NaN</td>\n",
       "      <td>NaN</td>\n",
       "      <td>NaN</td>\n",
       "      <td>0.065</td>\n",
       "      <td>0.29</td>\n",
       "      <td>20160908_C02_001_03.czi</td>\n",
       "      <td>//allen/aics/assay-dev/MicroscopyOtherData/Liy...</td>\n",
       "      <td>4.0</td>\n",
       "      <td>1.0</td>\n",
       "      <td>-1.0</td>\n",
       "      <td>3.0</td>\n",
       "      <td>20160908_C02_001_03.czi_cellWholeIndex.tiff</td>\n",
       "      <td>20160908_C02_001_03.czi_cellWholeIndex.tiff</td>\n",
       "      <td>20160908_C02_001_03.czi_nucWholeIndex.tiff</td>\n",
       "    </tr>\n",
       "    <tr>\n",
       "      <th>5</th>\n",
       "      <td>2017_02_10</td>\n",
       "      <td>1</td>\n",
       "      <td>1.0</td>\n",
       "      <td>0.065</td>\n",
       "      <td>0.29</td>\n",
       "      <td>3.0</td>\n",
       "      <td>NaN</td>\n",
       "      <td>NaN</td>\n",
       "      <td>NaN</td>\n",
       "      <td>0.065</td>\n",
       "      <td>0.29</td>\n",
       "      <td>20160908_C02_001_03.czi</td>\n",
       "      <td>//allen/aics/assay-dev/MicroscopyOtherData/Liy...</td>\n",
       "      <td>4.0</td>\n",
       "      <td>1.0</td>\n",
       "      <td>-1.0</td>\n",
       "      <td>3.0</td>\n",
       "      <td>20160908_C02_001_03.czi_cellWholeIndex.tiff</td>\n",
       "      <td>20160908_C02_001_03.czi_cellWholeIndex.tiff</td>\n",
       "      <td>20160908_C02_001_03.czi_nucWholeIndex.tiff</td>\n",
       "    </tr>\n",
       "    <tr>\n",
       "      <th>6</th>\n",
       "      <td>2017_02_10</td>\n",
       "      <td>1</td>\n",
       "      <td>2.0</td>\n",
       "      <td>0.065</td>\n",
       "      <td>0.29</td>\n",
       "      <td>3.0</td>\n",
       "      <td>NaN</td>\n",
       "      <td>NaN</td>\n",
       "      <td>NaN</td>\n",
       "      <td>0.065</td>\n",
       "      <td>0.29</td>\n",
       "      <td>20160908_C02_001_04.czi</td>\n",
       "      <td>//allen/aics/assay-dev/MicroscopyOtherData/Liy...</td>\n",
       "      <td>4.0</td>\n",
       "      <td>1.0</td>\n",
       "      <td>-1.0</td>\n",
       "      <td>3.0</td>\n",
       "      <td>20160908_C02_001_04.czi_cellWholeIndex.tiff</td>\n",
       "      <td>20160908_C02_001_04.czi_cellWholeIndex.tiff</td>\n",
       "      <td>20160908_C02_001_04.czi_nucWholeIndex.tiff</td>\n",
       "    </tr>\n",
       "    <tr>\n",
       "      <th>7</th>\n",
       "      <td>2017_02_10</td>\n",
       "      <td>1</td>\n",
       "      <td>2.0</td>\n",
       "      <td>0.065</td>\n",
       "      <td>0.29</td>\n",
       "      <td>3.0</td>\n",
       "      <td>NaN</td>\n",
       "      <td>NaN</td>\n",
       "      <td>NaN</td>\n",
       "      <td>0.065</td>\n",
       "      <td>0.29</td>\n",
       "      <td>20160908_C02_001_04.czi</td>\n",
       "      <td>//allen/aics/assay-dev/MicroscopyOtherData/Liy...</td>\n",
       "      <td>4.0</td>\n",
       "      <td>1.0</td>\n",
       "      <td>-1.0</td>\n",
       "      <td>3.0</td>\n",
       "      <td>20160908_C02_001_04.czi_cellWholeIndex.tiff</td>\n",
       "      <td>20160908_C02_001_04.czi_cellWholeIndex.tiff</td>\n",
       "      <td>20160908_C02_001_04.czi_nucWholeIndex.tiff</td>\n",
       "    </tr>\n",
       "    <tr>\n",
       "      <th>8</th>\n",
       "      <td>2017_02_10</td>\n",
       "      <td>1</td>\n",
       "      <td>2.0</td>\n",
       "      <td>0.065</td>\n",
       "      <td>0.29</td>\n",
       "      <td>3.0</td>\n",
       "      <td>NaN</td>\n",
       "      <td>NaN</td>\n",
       "      <td>NaN</td>\n",
       "      <td>0.065</td>\n",
       "      <td>0.29</td>\n",
       "      <td>20160908_C02_001_04.czi</td>\n",
       "      <td>//allen/aics/assay-dev/MicroscopyOtherData/Liy...</td>\n",
       "      <td>4.0</td>\n",
       "      <td>1.0</td>\n",
       "      <td>-1.0</td>\n",
       "      <td>3.0</td>\n",
       "      <td>20160908_C02_001_04.czi_cellWholeIndex.tiff</td>\n",
       "      <td>20160908_C02_001_04.czi_cellWholeIndex.tiff</td>\n",
       "      <td>20160908_C02_001_04.czi_nucWholeIndex.tiff</td>\n",
       "    </tr>\n",
       "    <tr>\n",
       "      <th>9</th>\n",
       "      <td>2017_02_10</td>\n",
       "      <td>1</td>\n",
       "      <td>2.0</td>\n",
       "      <td>0.065</td>\n",
       "      <td>0.29</td>\n",
       "      <td>3.0</td>\n",
       "      <td>NaN</td>\n",
       "      <td>NaN</td>\n",
       "      <td>NaN</td>\n",
       "      <td>0.065</td>\n",
       "      <td>0.29</td>\n",
       "      <td>20160908_C02_001_04.czi</td>\n",
       "      <td>//allen/aics/assay-dev/MicroscopyOtherData/Liy...</td>\n",
       "      <td>4.0</td>\n",
       "      <td>1.0</td>\n",
       "      <td>-1.0</td>\n",
       "      <td>3.0</td>\n",
       "      <td>20160908_C02_001_04.czi_cellWholeIndex.tiff</td>\n",
       "      <td>20160908_C02_001_04.czi_cellWholeIndex.tiff</td>\n",
       "      <td>20160908_C02_001_04.czi_nucWholeIndex.tiff</td>\n",
       "    </tr>\n",
       "  </tbody>\n",
       "</table>\n",
       "</div>"
      ],
      "text/plain": [
       "  DeliveryDate  FinalScore  Index  SegmentationXyPixelSize  \\\n",
       "0   2017_02_10           1    1.0                    0.065   \n",
       "1   2017_02_10           1    1.0                    0.065   \n",
       "2   2017_02_10           1    1.0                    0.065   \n",
       "3   2017_02_10           1    1.0                    0.065   \n",
       "4   2017_02_10           1    1.0                    0.065   \n",
       "5   2017_02_10           1    1.0                    0.065   \n",
       "6   2017_02_10           1    2.0                    0.065   \n",
       "7   2017_02_10           1    2.0                    0.065   \n",
       "8   2017_02_10           1    2.0                    0.065   \n",
       "9   2017_02_10           1    2.0                    0.065   \n",
       "\n",
       "   SegmentationZPixelSize  Version  backgroundSubtractionFoldername  \\\n",
       "0                    0.29      3.0                              NaN   \n",
       "1                    0.29      3.0                              NaN   \n",
       "2                    0.29      3.0                              NaN   \n",
       "3                    0.29      3.0                              NaN   \n",
       "4                    0.29      3.0                              NaN   \n",
       "5                    0.29      3.0                              NaN   \n",
       "6                    0.29      3.0                              NaN   \n",
       "7                    0.29      3.0                              NaN   \n",
       "8                    0.29      3.0                              NaN   \n",
       "9                    0.29      3.0                              NaN   \n",
       "\n",
       "   cell_line_ID colony_position  imageXyPixelSize  imageZPixelSize  \\\n",
       "0           NaN             NaN             0.065             0.29   \n",
       "1           NaN             NaN             0.065             0.29   \n",
       "2           NaN             NaN             0.065             0.29   \n",
       "3           NaN             NaN             0.065             0.29   \n",
       "4           NaN             NaN             0.065             0.29   \n",
       "5           NaN             NaN             0.065             0.29   \n",
       "6           NaN             NaN             0.065             0.29   \n",
       "7           NaN             NaN             0.065             0.29   \n",
       "8           NaN             NaN             0.065             0.29   \n",
       "9           NaN             NaN             0.065             0.29   \n",
       "\n",
       "             inputFilename                                        inputFolder  \\\n",
       "0  20160908_C02_001_03.czi  //allen/aics/assay-dev/MicroscopyOtherData/Liy...   \n",
       "1  20160908_C02_001_03.czi  //allen/aics/assay-dev/MicroscopyOtherData/Liy...   \n",
       "2  20160908_C02_001_03.czi  //allen/aics/assay-dev/MicroscopyOtherData/Liy...   \n",
       "3  20160908_C02_001_03.czi  //allen/aics/assay-dev/MicroscopyOtherData/Liy...   \n",
       "4  20160908_C02_001_03.czi  //allen/aics/assay-dev/MicroscopyOtherData/Liy...   \n",
       "5  20160908_C02_001_03.czi  //allen/aics/assay-dev/MicroscopyOtherData/Liy...   \n",
       "6  20160908_C02_001_04.czi  //allen/aics/assay-dev/MicroscopyOtherData/Liy...   \n",
       "7  20160908_C02_001_04.czi  //allen/aics/assay-dev/MicroscopyOtherData/Liy...   \n",
       "8  20160908_C02_001_04.czi  //allen/aics/assay-dev/MicroscopyOtherData/Liy...   \n",
       "9  20160908_C02_001_04.czi  //allen/aics/assay-dev/MicroscopyOtherData/Liy...   \n",
       "\n",
       "   lightChannel  memChannel  mitoticLabel  nucChannel  \\\n",
       "0           4.0         1.0          -1.0         3.0   \n",
       "1           4.0         1.0          -1.0         3.0   \n",
       "2           4.0         1.0          -1.0         3.0   \n",
       "3           4.0         1.0          -1.0         3.0   \n",
       "4           4.0         1.0          -1.0         3.0   \n",
       "5           4.0         1.0          -1.0         3.0   \n",
       "6           4.0         1.0          -1.0         3.0   \n",
       "7           4.0         1.0          -1.0         3.0   \n",
       "8           4.0         1.0          -1.0         3.0   \n",
       "9           4.0         1.0          -1.0         3.0   \n",
       "\n",
       "                    outputCellSegWholeFilename  \\\n",
       "0  20160908_C02_001_03.czi_cellWholeIndex.tiff   \n",
       "1  20160908_C02_001_03.czi_cellWholeIndex.tiff   \n",
       "2  20160908_C02_001_03.czi_cellWholeIndex.tiff   \n",
       "3  20160908_C02_001_03.czi_cellWholeIndex.tiff   \n",
       "4  20160908_C02_001_03.czi_cellWholeIndex.tiff   \n",
       "5  20160908_C02_001_03.czi_cellWholeIndex.tiff   \n",
       "6  20160908_C02_001_04.czi_cellWholeIndex.tiff   \n",
       "7  20160908_C02_001_04.czi_cellWholeIndex.tiff   \n",
       "8  20160908_C02_001_04.czi_cellWholeIndex.tiff   \n",
       "9  20160908_C02_001_04.czi_cellWholeIndex.tiff   \n",
       "\n",
       "            outputCellSegWholeSegScaleFilename  \\\n",
       "0  20160908_C02_001_03.czi_cellWholeIndex.tiff   \n",
       "1  20160908_C02_001_03.czi_cellWholeIndex.tiff   \n",
       "2  20160908_C02_001_03.czi_cellWholeIndex.tiff   \n",
       "3  20160908_C02_001_03.czi_cellWholeIndex.tiff   \n",
       "4  20160908_C02_001_03.czi_cellWholeIndex.tiff   \n",
       "5  20160908_C02_001_03.czi_cellWholeIndex.tiff   \n",
       "6  20160908_C02_001_04.czi_cellWholeIndex.tiff   \n",
       "7  20160908_C02_001_04.czi_cellWholeIndex.tiff   \n",
       "8  20160908_C02_001_04.czi_cellWholeIndex.tiff   \n",
       "9  20160908_C02_001_04.czi_cellWholeIndex.tiff   \n",
       "\n",
       "                    outputNucSegWholeFilename  \n",
       "0  20160908_C02_001_03.czi_nucWholeIndex.tiff  \n",
       "1  20160908_C02_001_03.czi_nucWholeIndex.tiff  \n",
       "2  20160908_C02_001_03.czi_nucWholeIndex.tiff  \n",
       "3  20160908_C02_001_03.czi_nucWholeIndex.tiff  \n",
       "4  20160908_C02_001_03.czi_nucWholeIndex.tiff  \n",
       "5  20160908_C02_001_03.czi_nucWholeIndex.tiff  \n",
       "6  20160908_C02_001_04.czi_nucWholeIndex.tiff  \n",
       "7  20160908_C02_001_04.czi_nucWholeIndex.tiff  \n",
       "8  20160908_C02_001_04.czi_nucWholeIndex.tiff  \n",
       "9  20160908_C02_001_04.czi_nucWholeIndex.tiff  "
      ]
     },
     "execution_count": 33,
     "metadata": {},
     "output_type": "execute_result"
    }
   ],
   "source": [
    "df_raw.iloc[0:10,0:20]"
   ]
  },
  {
   "cell_type": "code",
   "execution_count": 32,
   "metadata": {
    "collapsed": false
   },
   "outputs": [
    {
     "data": {
      "text/plain": [
       "'//allen/aics/assay-dev/MicroscopyData/Irina/2016/20160708'"
      ]
     },
     "execution_count": 32,
     "metadata": {},
     "output_type": "execute_result"
    }
   ],
   "source": [
    "df_raw.iloc[5555]['inputFolder']"
   ]
  },
  {
   "cell_type": "code",
   "execution_count": 34,
   "metadata": {
    "collapsed": true
   },
   "outputs": [],
   "source": [
    "names = df_raw.inputFolder"
   ]
  },
  {
   "cell_type": "code",
   "execution_count": 40,
   "metadata": {
    "collapsed": true
   },
   "outputs": [],
   "source": [
    "name_set = set()\n",
    "for name in names:\n",
    "    name_set.add(name[13:24])"
   ]
  },
  {
   "cell_type": "code",
   "execution_count": 41,
   "metadata": {
    "collapsed": false
   },
   "outputs": [
    {
     "data": {
      "text/plain": [
       "{'assay-dev/M', 'microscopy/'}"
      ]
     },
     "execution_count": 41,
     "metadata": {},
     "output_type": "execute_result"
    }
   ],
   "source": [
    "name_set"
   ]
  },
  {
   "cell_type": "code",
   "execution_count": 36,
   "metadata": {
    "collapsed": false
   },
   "outputs": [],
   "source": [
    "a = \"//allen/aics/assay-dev\"\n"
   ]
  },
  {
   "cell_type": "code",
   "execution_count": 39,
   "metadata": {
    "collapsed": false
   },
   "outputs": [
    {
     "data": {
      "text/plain": [
       "'assay-dev'"
      ]
     },
     "execution_count": 39,
     "metadata": {},
     "output_type": "execute_result"
    }
   ],
   "source": [
    "a[13:24]"
   ]
  },
  {
   "cell_type": "code",
   "execution_count": null,
   "metadata": {
    "collapsed": true
   },
   "outputs": [],
   "source": []
  }
 ],
 "metadata": {
  "kernelspec": {
   "display_name": "Python 2",
   "language": "python",
   "name": "python2"
  },
  "language_info": {
   "codemirror_mode": {
    "name": "ipython",
    "version": 2
   },
   "file_extension": ".py",
   "mimetype": "text/x-python",
   "name": "python",
   "nbconvert_exporter": "python",
   "pygments_lexer": "ipython2",
   "version": "2.7.13"
  }
 },
 "nbformat": 4,
 "nbformat_minor": 2
}
