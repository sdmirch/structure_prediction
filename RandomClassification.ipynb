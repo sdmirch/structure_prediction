{
 "cells": [
  {
   "cell_type": "code",
   "execution_count": 1,
   "metadata": {
    "collapsed": true
   },
   "outputs": [],
   "source": [
    "import pandas as pd\n",
    "import numpy as np\n",
    "from collections import Counter\n",
    "\n",
    "from sklearn.metrics import classification_report"
   ]
  },
  {
   "cell_type": "code",
   "execution_count": 2,
   "metadata": {
    "collapsed": true
   },
   "outputs": [],
   "source": [
    "df = pd.read_csv('data/feats_reduced_byRF.csv')"
   ]
  },
  {
   "cell_type": "code",
   "execution_count": 3,
   "metadata": {
    "collapsed": true
   },
   "outputs": [],
   "source": [
    "y = df.structureProteinName"
   ]
  },
  {
   "cell_type": "code",
   "execution_count": 4,
   "metadata": {
    "collapsed": false
   },
   "outputs": [],
   "source": [
    "def model_RandomClass(y):\n",
    "    \n",
    "    classes = []\n",
    "    probabilities = []\n",
    "    c = Counter(y)\n",
    "    for k, v in c.iteritems():\n",
    "        classes.append(k)\n",
    "        probabilities.append(v*1.0/len(y))\n",
    "        \n",
    "    predictions=np.random.choice(classes,size=len(y),replace=True,p=probabilities)\n",
    "    \n",
    "    return predictions"
   ]
  },
  {
   "cell_type": "code",
   "execution_count": 5,
   "metadata": {
    "collapsed": false
   },
   "outputs": [],
   "source": [
    "y_random_predict = model_RandomClass(y)"
   ]
  },
  {
   "cell_type": "code",
   "execution_count": 6,
   "metadata": {
    "collapsed": false
   },
   "outputs": [
    {
     "data": {
      "text/plain": [
       "(21793, 21793)"
      ]
     },
     "execution_count": 6,
     "metadata": {},
     "output_type": "execute_result"
    }
   ],
   "source": [
    "len(y_random_predict), len(y)"
   ]
  },
  {
   "cell_type": "code",
   "execution_count": 8,
   "metadata": {
    "collapsed": false
   },
   "outputs": [
    {
     "name": "stdout",
     "output_type": "stream",
     "text": [
      "               precision    recall  f1-score   support\n",
      "\n",
      "Alpha actinin       0.02      0.02      0.02       493\n",
      "Alpha tubulin       0.16      0.16      0.16      3475\n",
      "   Beta actin       0.07      0.07      0.07      1603\n",
      "  Desmoplakin       0.11      0.11      0.11      2562\n",
      "  Fibrillarin       0.04      0.04      0.04       988\n",
      "     Lamin B1       0.21      0.21      0.21      4465\n",
      "   Myosin IIB       0.02      0.02      0.02       157\n",
      "      ST6GAL1       0.06      0.06      0.06      1544\n",
      "   Sec61 beta       0.09      0.09      0.09      1929\n",
      "        Tom20       0.20      0.20      0.20      4343\n",
      "          ZO1       0.02      0.02      0.02       234\n",
      "\n",
      "  avg / total       0.14      0.14      0.14     21793\n",
      "\n"
     ]
    }
   ],
   "source": [
    "print(classification_report(y_true=y, y_pred=model_RandomClass(y)))"
   ]
  }
 ],
 "metadata": {
  "kernelspec": {
   "display_name": "Python 2",
   "language": "python",
   "name": "python2"
  },
  "language_info": {
   "codemirror_mode": {
    "name": "ipython",
    "version": 2
   },
   "file_extension": ".py",
   "mimetype": "text/x-python",
   "name": "python",
   "nbconvert_exporter": "python",
   "pygments_lexer": "ipython2",
   "version": "2.7.13"
  }
 },
 "nbformat": 4,
 "nbformat_minor": 2
}
